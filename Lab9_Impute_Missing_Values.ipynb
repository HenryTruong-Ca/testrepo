{
 "cells": [
  {
   "cell_type": "markdown",
   "metadata": {},
   "source": [
    "# **Impute Missing Values**\n"
   ]
  },
  {
   "cell_type": "markdown",
   "metadata": {},
   "source": [
    "Estimated time needed: **30** minutes\n"
   ]
  },
  {
   "cell_type": "markdown",
   "metadata": {},
   "source": [
    "In this lab, you will practice essential data wrangling techniques using the Stack Overflow survey dataset. The primary focus is on handling missing data and ensuring data quality. You will:\n",
    "\n",
    "- **Load the Data:** Import the dataset into a DataFrame using the pandas library.\n",
    "\n",
    "- **Clean the Data:** Identify and remove duplicate entries to maintain data integrity.\n",
    "\n",
    "- **Handle Missing Values:** Detect missing values, impute them with appropriate strategies, and verify the imputation to create a complete and reliable dataset for analysis.\n",
    "\n",
    "This lab equips you with the skills to effectively preprocess and clean real-world datasets, a crucial step in any data analysis project.\n"
   ]
  },
  {
   "cell_type": "markdown",
   "metadata": {},
   "source": [
    "## Objectives\n"
   ]
  },
  {
   "cell_type": "markdown",
   "metadata": {},
   "source": [
    "-   Identify missing values in the dataset.\n",
    "\n",
    "-   Apply techniques to impute missing values in the dataset.\n",
    "  \n",
    "-   Use suitable techniques to normalize data in the dataset.\n"
   ]
  },
  {
   "cell_type": "markdown",
   "metadata": {},
   "source": [
    "#### Install needed library\n"
   ]
  },
  {
   "cell_type": "code",
   "execution_count": null,
   "metadata": {},
   "outputs": [],
   "source": [
    "!pip install pandas"
   ]
  },
  {
   "cell_type": "markdown",
   "metadata": {},
   "source": [
    "### Step 1: Import Required Libraries\n"
   ]
  },
  {
   "cell_type": "code",
   "execution_count": 1,
   "metadata": {},
   "outputs": [],
   "source": [
    "def import_libraries():\n",
    "    \"\"\"\n",
    "    Imports required libraries for data analysis.\n",
    "    \"\"\"\n",
    "    global pd, np, plt, sns\n",
    "    import pandas as pd\n",
    "    import numpy as np\n",
    "    import matplotlib.pyplot as plt\n",
    "    import seaborn as sns\n",
    "\n",
    "    # Set plot styles\n",
    "    sns.set(style='whitegrid', palette='deep')\n",
    "    plt.rcParams['figure.figsize'] = (10, 6)\n",
    "    plt.rcParams['axes.titlesize'] = 16\n",
    "    plt.rcParams['axes.labelsize'] = 14\n",
    "\n",
    "    print(\"Libraries imported successfully.\")\n"
   ]
  },
  {
   "cell_type": "code",
   "execution_count": 2,
   "metadata": {},
   "outputs": [
    {
     "name": "stdout",
     "output_type": "stream",
     "text": [
      "Libraries imported successfully.\n"
     ]
    }
   ],
   "source": [
    "import_libraries()"
   ]
  },
  {
   "cell_type": "markdown",
   "metadata": {},
   "source": [
    "### Step 2: Load the Dataset Into a Dataframe\n"
   ]
  },
  {
   "cell_type": "code",
   "execution_count": 7,
   "metadata": {},
   "outputs": [],
   "source": [
    "def load_dataset(file_path):\n",
    "    \"\"\"\n",
    "    Loads the dataset into a pandas DataFrame.\n",
    "\n",
    "    Parameters:\n",
    "        file_path (str): The path to the CSV file.\n",
    "\n",
    "    Returns:\n",
    "        pd.DataFrame: The loaded DataFrame.\n",
    "    \"\"\"\n",
    "    try:\n",
    "        df = pd.read_csv(file_path)\n",
    "        print(f\"Dataset loaded successfully. Shape: {df.shape}\")\n",
    "        return df\n",
    "    except FileNotFoundError:\n",
    "        print(\"File not found. Please check the file path.\")\n",
    "        return None\n"
   ]
  },
  {
   "cell_type": "code",
   "execution_count": 8,
   "metadata": {},
   "outputs": [
    {
     "name": "stdout",
     "output_type": "stream",
     "text": [
      "Dataset loaded successfully. Shape: (65437, 114)\n"
     ]
    }
   ],
   "source": [
    "file_path = \"https://cf-courses-data.s3.us.cloud-object-storage.appdomain.cloud/n01PQ9pSmiRX6520flujwQ/survey-data.csv\"  # Update with your actual file path\n",
    "df = load_dataset(file_path)"
   ]
  },
  {
   "cell_type": "markdown",
   "metadata": {},
   "source": [
    "### Step 3. Finding and Removing Duplicates\n",
    "##### Task 1: Identify duplicate rows in the dataset.\n"
   ]
  },
  {
   "cell_type": "code",
   "execution_count": 14,
   "metadata": {},
   "outputs": [],
   "source": [
    "def identify_duplicates(df):\n",
    "    \"\"\"\n",
    "    Identifies duplicate rows in the DataFrame.\n",
    "\n",
    "    Parameters:\n",
    "        df (pd.DataFrame): The DataFrame to check for duplicates.\n",
    "\n",
    "    Returns:\n",
    "        pd.DataFrame: DataFrame containing duplicate rows.\n",
    "        int: Number of duplicate rows.\n",
    "    \"\"\"\n",
    "    duplicates = df[df.duplicated()]\n",
    "    num_duplicates = duplicates.shape[0]\n",
    "    print(f\"Number of duplicate rows: {num_duplicates}\")\n",
    "    return duplicates, num_duplicates\n"
   ]
  },
  {
   "cell_type": "code",
   "execution_count": 15,
   "metadata": {},
   "outputs": [
    {
     "name": "stdout",
     "output_type": "stream",
     "text": [
      "Number of duplicate rows: 0\n"
     ]
    }
   ],
   "source": [
    "duplicates, num_duplicates = identify_duplicates(df)"
   ]
  },
  {
   "cell_type": "markdown",
   "metadata": {},
   "source": [
    "**Function to Identify Duplicate Rows Based on Specific Columns**"
   ]
  },
  {
   "cell_type": "code",
   "execution_count": 11,
   "metadata": {},
   "outputs": [],
   "source": [
    "def identify_duplicates(df, subset_columns):\n",
    "    \"\"\"\n",
    "    Identifies duplicate rows in the DataFrame based on specified columns.\n",
    "\n",
    "    Parameters:\n",
    "        df (pd.DataFrame): The DataFrame to analyze.\n",
    "        subset_columns (list): List of column names to consider when identifying duplicates.\n",
    "\n",
    "    Returns:\n",
    "        duplicates_df (pd.DataFrame): DataFrame containing duplicate rows.\n",
    "        num_duplicates (int): Number of duplicate rows found.\n",
    "    \"\"\"\n",
    "    # Find duplicate rows based on the subset of columns\n",
    "    duplicate_mask = df.duplicated(subset=subset_columns, keep=False)\n",
    "    duplicates_df = df[duplicate_mask].copy()\n",
    "\n",
    "    # Count the number of duplicate rows\n",
    "    num_duplicates = duplicates_df.shape[0]\n",
    "\n",
    "    # Sort duplicates for better readability\n",
    "    duplicates_df.sort_values(by=subset_columns, inplace=True)\n",
    "\n",
    "    # Display the number of duplicates found\n",
    "    print(f\"Number of duplicate rows based on columns {subset_columns}: {num_duplicates}\")\n",
    "\n",
    "    return duplicates_df, num_duplicates\n"
   ]
  },
  {
   "cell_type": "markdown",
   "metadata": {},
   "source": [
    "##### Task 2: Remove the duplicate rows from the dataframe.\n",
    "\n"
   ]
  },
  {
   "cell_type": "code",
   "execution_count": 16,
   "metadata": {},
   "outputs": [],
   "source": [
    "def remove_duplicates(df):\n",
    "    \"\"\"\n",
    "    Removes duplicate rows from the DataFrame.\n",
    "\n",
    "    Parameters:\n",
    "        df (pd.DataFrame): The DataFrame to remove duplicates from.\n",
    "\n",
    "    Returns:\n",
    "        pd.DataFrame: DataFrame with duplicates removed.\n",
    "    \"\"\"\n",
    "    initial_shape = df.shape\n",
    "    df.drop_duplicates(inplace=True)\n",
    "    final_shape = df.shape\n",
    "    print(f\"Duplicates removed. DataFrame shape changed from {initial_shape} to {final_shape}.\")\n",
    "    return df\n"
   ]
  },
  {
   "cell_type": "code",
   "execution_count": 17,
   "metadata": {},
   "outputs": [
    {
     "name": "stdout",
     "output_type": "stream",
     "text": [
      "Duplicates removed. DataFrame shape changed from (65437, 114) to (65437, 114).\n"
     ]
    }
   ],
   "source": [
    "df = remove_duplicates(df)"
   ]
  },
  {
   "cell_type": "markdown",
   "metadata": {},
   "source": [
    "### Step 4: Finding Missing Values\n",
    "##### Task 3: Find the missing values for all columns.\n"
   ]
  },
  {
   "cell_type": "code",
   "execution_count": 18,
   "metadata": {},
   "outputs": [],
   "source": [
    "def find_missing_values(df):\n",
    "    \"\"\"\n",
    "    Finds the number of missing values in each column.\n",
    "\n",
    "    Parameters:\n",
    "        df (pd.DataFrame): The DataFrame to check for missing values.\n",
    "\n",
    "    Returns:\n",
    "        pd.Series: Series with counts of missing values per column.\n",
    "    \"\"\"\n",
    "    missing_values = df.isnull().sum()\n",
    "    print(\"Missing values per column:\")\n",
    "    print(missing_values[missing_values > 0])\n",
    "    return missing_values\n"
   ]
  },
  {
   "cell_type": "code",
   "execution_count": 19,
   "metadata": {},
   "outputs": [
    {
     "name": "stdout",
     "output_type": "stream",
     "text": [
      "Missing values per column:\n",
      "RemoteWork             10631\n",
      "CodingActivities       10971\n",
      "EdLevel                 4653\n",
      "LearnCode               4949\n",
      "LearnCodeOnline        16200\n",
      "                       ...  \n",
      "JobSatPoints_11        35992\n",
      "SurveyLength            9255\n",
      "SurveyEase              9199\n",
      "ConvertedCompYearly    42002\n",
      "JobSat                 36311\n",
      "Length: 109, dtype: int64\n"
     ]
    }
   ],
   "source": [
    "missing_values = find_missing_values(df)"
   ]
  },
  {
   "cell_type": "markdown",
   "metadata": {},
   "source": [
    "##### Task 4: Find out how many rows are missing in the column RemoteWork.\n"
   ]
  },
  {
   "cell_type": "code",
   "execution_count": 20,
   "metadata": {},
   "outputs": [],
   "source": [
    "def missing_in_column(df, column_name):\n",
    "    \"\"\"\n",
    "    Finds the number of missing values in a specific column.\n",
    "\n",
    "    Parameters:\n",
    "        df (pd.DataFrame): The DataFrame to check.\n",
    "        column_name (str): The column to inspect.\n",
    "\n",
    "    Returns:\n",
    "        int: Number of missing values in the column.\n",
    "    \"\"\"\n",
    "    missing_count = df[column_name].isnull().sum()\n",
    "    print(f\"Number of missing values in '{column_name}': {missing_count}\")\n",
    "    return missing_count\n"
   ]
  },
  {
   "cell_type": "code",
   "execution_count": 21,
   "metadata": {},
   "outputs": [
    {
     "name": "stdout",
     "output_type": "stream",
     "text": [
      "Number of missing values in 'RemoteWork': 10631\n"
     ]
    }
   ],
   "source": [
    "missing_remote_work = missing_in_column(df, 'RemoteWork')\n"
   ]
  },
  {
   "cell_type": "markdown",
   "metadata": {},
   "source": [
    "### Step 5. Imputing Missing Values\n",
    "##### Task 5: Find the value counts for the column RemoteWork.\n"
   ]
  },
  {
   "cell_type": "code",
   "execution_count": 22,
   "metadata": {},
   "outputs": [],
   "source": [
    "def value_counts_column(df, column_name):\n",
    "    \"\"\"\n",
    "    Finds the value counts for a specific column.\n",
    "\n",
    "    Parameters:\n",
    "        df (pd.DataFrame): The DataFrame to analyze.\n",
    "        column_name (str): The column to analyze.\n",
    "\n",
    "    Returns:\n",
    "        pd.Series: Series of value counts.\n",
    "    \"\"\"\n",
    "    value_counts = df[column_name].value_counts()\n",
    "    print(f\"Value counts for '{column_name}':\")\n",
    "    print(value_counts)\n",
    "    return value_counts"
   ]
  },
  {
   "cell_type": "code",
   "execution_count": 23,
   "metadata": {},
   "outputs": [
    {
     "name": "stdout",
     "output_type": "stream",
     "text": [
      "Value counts for 'RemoteWork':\n",
      "RemoteWork\n",
      "Hybrid (some remote, some in-person)    23015\n",
      "Remote                                  20831\n",
      "In-person                               10960\n",
      "Name: count, dtype: int64\n"
     ]
    }
   ],
   "source": [
    "remote_work_counts = value_counts_column(df, 'RemoteWork')"
   ]
  },
  {
   "cell_type": "markdown",
   "metadata": {},
   "source": [
    "##### Task 6: Identify the most frequent (majority) value in the RemoteWork column.\n",
    "\n"
   ]
  },
  {
   "cell_type": "code",
   "execution_count": 24,
   "metadata": {},
   "outputs": [],
   "source": [
    "def most_frequent_value(df, column_name):\n",
    "    \"\"\"\n",
    "    Identifies the most frequent value in a specific column.\n",
    "\n",
    "    Parameters:\n",
    "        df (pd.DataFrame): The DataFrame to analyze.\n",
    "        column_name (str): The column to analyze.\n",
    "\n",
    "    Returns:\n",
    "        The most frequent value in the column.\n",
    "    \"\"\"\n",
    "    mode_value = df[column_name].mode()[0]\n",
    "    print(f\"The most frequent value in '{column_name}' is: '{mode_value}'\")\n",
    "    return mode_value\n"
   ]
  },
  {
   "cell_type": "code",
   "execution_count": 25,
   "metadata": {},
   "outputs": [
    {
     "name": "stdout",
     "output_type": "stream",
     "text": [
      "The most frequent value in 'RemoteWork' is: 'Hybrid (some remote, some in-person)'\n"
     ]
    }
   ],
   "source": [
    "\n",
    "most_frequent_remote_work = most_frequent_value(df, 'RemoteWork')"
   ]
  },
  {
   "cell_type": "markdown",
   "metadata": {},
   "source": [
    "##### Task 7: Impute (replace) all the empty rows in the column RemoteWork with the majority value.\n",
    "\n"
   ]
  },
  {
   "cell_type": "code",
   "execution_count": 26,
   "metadata": {},
   "outputs": [],
   "source": [
    "def impute_missing_values(df, column_name, value):\n",
    "    \"\"\"\n",
    "    Imputes missing values in a column with a specified value.\n",
    "\n",
    "    Parameters:\n",
    "        df (pd.DataFrame): The DataFrame to modify.\n",
    "        column_name (str): The column to impute.\n",
    "        value: The value to replace missing data with.\n",
    "\n",
    "    Returns:\n",
    "        pd.DataFrame: DataFrame with imputed values.\n",
    "    \"\"\"\n",
    "    missing_before = df[column_name].isnull().sum()\n",
    "    df[column_name].fillna(value, inplace=True)\n",
    "    missing_after = df[column_name].isnull().sum()\n",
    "    print(f\"Imputed missing values in '{column_name}'. Missing before: {missing_before}, Missing after: {missing_after}\")\n",
    "    return df\n"
   ]
  },
  {
   "cell_type": "code",
   "execution_count": 27,
   "metadata": {},
   "outputs": [
    {
     "name": "stdout",
     "output_type": "stream",
     "text": [
      "Imputed missing values in 'RemoteWork'. Missing before: 10631, Missing after: 0\n"
     ]
    },
    {
     "name": "stderr",
     "output_type": "stream",
     "text": [
      "C:\\Users\\tdhoa\\AppData\\Local\\Temp\\ipykernel_26172\\2041377184.py:14: FutureWarning: A value is trying to be set on a copy of a DataFrame or Series through chained assignment using an inplace method.\n",
      "The behavior will change in pandas 3.0. This inplace method will never work because the intermediate object on which we are setting values always behaves as a copy.\n",
      "\n",
      "For example, when doing 'df[col].method(value, inplace=True)', try using 'df.method({col: value}, inplace=True)' or df[col] = df[col].method(value) instead, to perform the operation inplace on the original object.\n",
      "\n",
      "\n",
      "  df[column_name].fillna(value, inplace=True)\n"
     ]
    }
   ],
   "source": [
    "df = impute_missing_values(df, 'RemoteWork', most_frequent_remote_work)"
   ]
  },
  {
   "cell_type": "markdown",
   "metadata": {},
   "source": [
    "##### Task 8: Check for any compensation-related columns and describe their distribution.\n",
    "\n"
   ]
  },
  {
   "cell_type": "code",
   "execution_count": 28,
   "metadata": {},
   "outputs": [],
   "source": [
    "def analyze_compensation_columns(df):\n",
    "    \"\"\"\n",
    "    Identifies compensation-related columns and describes their distribution.\n",
    "\n",
    "    Parameters:\n",
    "        df (pd.DataFrame): The DataFrame to analyze.\n",
    "\n",
    "    Returns:\n",
    "        dict: A dictionary with column names as keys and their descriptive statistics as values.\n",
    "    \"\"\"\n",
    "    import matplotlib.pyplot as plt\n",
    "    import seaborn as sns\n",
    "    \n",
    "    compensation_stats = {}\n",
    "    compensation_columns = [col for col in df.columns if 'comp' in col.lower() or 'salary' in col.lower()]\n",
    "    \n",
    "    if not compensation_columns:\n",
    "        print(\"No compensation-related columns found.\")\n",
    "        return compensation_stats\n",
    "    \n",
    "    for col in compensation_columns:\n",
    "        if df[col].dtype in ['int64', 'float64']:\n",
    "            stats = df[col].describe()\n",
    "            compensation_stats[col] = stats\n",
    "            print(f\"\\nDescriptive statistics for '{col}':\")\n",
    "            print(stats)\n",
    "            \n",
    "            # Plot distribution\n",
    "            plt.figure(figsize=(10, 6))\n",
    "            sns.histplot(df[col].dropna(), bins=50, kde=True, color='skyblue')\n",
    "            plt.title(f\"Distribution of {col}\")\n",
    "            plt.xlabel(col)\n",
    "            plt.ylabel('Frequency')\n",
    "            plt.show()\n",
    "        else:\n",
    "            print(f\"\\nColumn '{col}' is not numerical and cannot be described statistically.\")\n",
    "    return compensation_stats\n"
   ]
  },
  {
   "cell_type": "code",
   "execution_count": 29,
   "metadata": {},
   "outputs": [
    {
     "name": "stdout",
     "output_type": "stream",
     "text": [
      "\n",
      "Descriptive statistics for 'CompTotal':\n",
      "count     3.374000e+04\n",
      "mean     2.963841e+145\n",
      "std      5.444117e+147\n",
      "min       0.000000e+00\n",
      "25%       6.000000e+04\n",
      "50%       1.100000e+05\n",
      "75%       2.500000e+05\n",
      "max      1.000000e+150\n",
      "Name: CompTotal, dtype: float64\n"
     ]
    },
    {
     "data": {
      "image/png": "[encoded data removed]",
      "text/plain": [
       "<Figure size 1000x600 with 1 Axes>"
      ]
     },
     "metadata": {},
     "output_type": "display_data"
    },
    {
     "name": "stdout",
     "output_type": "stream",
     "text": [
      "\n",
      "Column 'AIComplex' is not numerical and cannot be described statistically.\n",
      "\n",
      "Descriptive statistics for 'ConvertedCompYearly':\n",
      "count    2.343500e+04\n",
      "mean     8.615529e+04\n",
      "std      1.867570e+05\n",
      "min      1.000000e+00\n",
      "25%      3.271200e+04\n",
      "50%      6.500000e+04\n",
      "75%      1.079715e+05\n",
      "max      1.625660e+07\n",
      "Name: ConvertedCompYearly, dtype: float64\n"
     ]
    },
    {
     "data": {
      "image/png": "[encoded data removed]",
      "text/plain": [
       "<Figure size 1000x600 with 1 Axes>"
      ]
     },
     "metadata": {},
     "output_type": "display_data"
    }
   ],
   "source": [
    "compensation_statistics = analyze_compensation_columns(df)"
   ]
  }
 ],
 "metadata": {
  "kernelspec": {
   "display_name": "Python 3",
   "language": "python",
   "name": "python3"
  },
  "language_info": {
   "codemirror_mode": {
    "name": "ipython",
    "version": 3
   },
   "file_extension": ".py",
   "mimetype": "text/x-python",
   "name": "python",
   "nbconvert_exporter": "python",
   "pygments_lexer": "ipython3",
   "version": "3.12.3"
  }
 },
 "nbformat": 4,
 "nbformat_minor": 2
}
