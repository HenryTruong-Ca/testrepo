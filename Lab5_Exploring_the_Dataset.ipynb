{
 "cells": [
  {
   "cell_type": "markdown",
   "metadata": {},
   "source": [
    "# **Lab: Exploring the Dataset**\n"
   ]
  },
  {
   "cell_type": "markdown",
   "metadata": {},
   "source": [
    "Estimated time needed: **30** minutes\n"
   ]
  },
  {
   "cell_type": "markdown",
   "metadata": {},
   "source": [
    "## Introduction\n"
   ]
  },
  {
   "cell_type": "markdown",
   "metadata": {},
   "source": [
    "Data exploration is the initial phase of data analysis where we aim to understand the data's characteristics, identify patterns, and uncover potential insights. It is a crucial step that helps us make informed decisions about subsequent analysis.\n"
   ]
  },
  {
   "cell_type": "markdown",
   "metadata": {},
   "source": [
    "## Objectives\n"
   ]
  },
  {
   "cell_type": "markdown",
   "metadata": {},
   "source": [
    "After completing this lab, you will be able to:\n"
   ]
  },
  {
   "cell_type": "markdown",
   "metadata": {},
   "source": [
    "-   Summarize the key characteristics of a dataset.\n",
    "-   Identify different data types commonly used in data analysis.\n"
   ]
  },
  {
   "cell_type": "markdown",
   "metadata": {},
   "source": [
    "### Install the required library\n"
   ]
  },
  {
   "cell_type": "code",
   "execution_count": 1,
   "metadata": {},
   "outputs": [
    {
     "name": "stdout",
     "output_type": "stream",
     "text": [
      "2.2.2\n"
     ]
    }
   ],
   "source": [
    "# import micropip\n",
    "\n",
    "# await micropip.install('pandas')\n",
    "\n",
    "# # Import pandas after installation\n",
    "import pandas as pd\n",
    "print(pd.__version__)\n"
   ]
  },
  {
   "cell_type": "markdown",
   "metadata": {},
   "source": [
    "## Load the dataset\n"
   ]
  },
  {
   "cell_type": "markdown",
   "metadata": {},
   "source": [
    "<h3>Read Data</h3>\n",
    "<p>\n",
    "We utilize the <code>pandas.read_csv()</code> function for reading CSV files. However, in this version of the lab, which operates on JupyterLite, the dataset needs to be downloaded to the interface using the provided code below.\n",
    "</p>\n"
   ]
  },
  {
   "cell_type": "markdown",
   "metadata": {},
   "source": [
    "The functions below will download the dataset into your browser:\n"
   ]
  },
  {
   "cell_type": "code",
   "execution_count": 2,
   "metadata": {},
   "outputs": [],
   "source": [
    "# from pyodide.http import pyfetch\n",
    "\n",
    "# async def download(url, filename):\n",
    "#     response = await pyfetch(url)\n",
    "#     if response.status == 200:\n",
    "#         with open(filename, \"wb\") as f:\n",
    "#             f.write(await response.bytes())"
   ]
  },
  {
   "cell_type": "markdown",
   "metadata": {},
   "source": [
    "To obtain the dataset, utilize the download() function as defined above:  \n"
   ]
  },
  {
   "cell_type": "code",
   "execution_count": 3,
   "metadata": {},
   "outputs": [],
   "source": [
    "# await download(file_path, \"survey_data.csv\")\n",
    "# file_name=\"survey_data.csv\""
   ]
  },
  {
   "cell_type": "markdown",
   "metadata": {},
   "source": [
    "#### to download a file in standard Python"
   ]
  },
  {
   "cell_type": "code",
   "execution_count": 4,
   "metadata": {},
   "outputs": [],
   "source": [
    "import requests\n",
    "\n",
    "def download(url, filename):\n",
    "    response = requests.get(url)\n",
    "    with open(filename, \"wb\") as f:\n",
    "        f.write(response.content)\n",
    "\n",
    "file_path = \"https://cf-courses-data.s3.us.cloud-object-storage.appdomain.cloud/n01PQ9pSmiRX6520flujwQ/survey-data.csv\"\n",
    "download(file_path, \"survey-data.csv\")\n"
   ]
  },
  {
   "cell_type": "markdown",
   "metadata": {},
   "source": [
    "#### simply use the URL directly in the pandas.read_csv() function. You can uncomment and run the statements below"
   ]
  },
  {
   "cell_type": "code",
   "execution_count": 5,
   "metadata": {},
   "outputs": [],
   "source": [
    "#df = pd.read_csv(file_path)"
   ]
  },
  {
   "cell_type": "markdown",
   "metadata": {},
   "source": [
    "Utilize the Pandas method read_csv() to load the data into a dataframe.\n"
   ]
  },
  {
   "cell_type": "code",
   "execution_count": 6,
   "metadata": {},
   "outputs": [],
   "source": [
    "df = pd.read_csv('survey-data.csv')"
   ]
  },
  {
   "cell_type": "markdown",
   "metadata": {},
   "source": [
    "# Hands on Lab\n"
   ]
  },
  {
   "cell_type": "markdown",
   "metadata": {},
   "source": [
    "## Explore the dataset\n"
   ]
  },
  {
   "cell_type": "markdown",
   "metadata": {},
   "source": [
    "It is a good idea to print the top 5 rows of the dataset to get a feel of how the dataset will look.\n"
   ]
  },
  {
   "cell_type": "markdown",
   "metadata": {},
   "source": [
    "Display the top 5 rows and columns from your dataset.\n"
   ]
  },
  {
   "cell_type": "code",
   "execution_count": 7,
   "metadata": {},
   "outputs": [
    {
     "data": {
      "application/vnd.microsoft.datawrangler.viewer.v0+json": {
       "columns": [
        {
         "name": "index",
         "rawType": "int64",
         "type": "integer"
        },
        {
         "name": "ResponseId",
         "rawType": "int64",
         "type": "integer"
        },
        {
         "name": "MainBranch",
         "rawType": "object",
         "type": "string"
        },
        {
         "name": "Age",
         "rawType": "object",
         "type": "string"
        },
        {
         "name": "Employment",
         "rawType": "object",
         "type": "string"
        },
        {
         "name": "RemoteWork",
         "rawType": "object",
         "type": "unknown"
        },
        {
         "name": "Check",
         "rawType": "object",
         "type": "string"
        },
        {
         "name": "CodingActivities",
         "rawType": "object",
         "type": "unknown"
        },
        {
         "name": "EdLevel",
         "rawType": "object",
         "type": "string"
        },
        {
         "name": "LearnCode",
         "rawType": "object",
         "type": "string"
        },
        {
         "name": "LearnCodeOnline",
         "rawType": "object",
         "type": "unknown"
        },
        {
         "name": "TechDoc",
         "rawType": "object",
         "type": "unknown"
        },
        {
         "name": "YearsCode",
         "rawType": "object",
         "type": "unknown"
        },
        {
         "name": "YearsCodePro",
         "rawType": "object",
         "type": "unknown"
        },
        {
         "name": "DevType",
         "rawType": "object",
         "type": "unknown"
        },
        {
         "name": "OrgSize",
         "rawType": "object",
         "type": "unknown"
        },
        {
         "name": "PurchaseInfluence",
         "rawType": "object",
         "type": "unknown"
        },
        {
         "name": "BuyNewTool",
         "rawType": "object",
         "type": "unknown"
        },
        {
         "name": "BuildvsBuy",
         "rawType": "object",
         "type": "unknown"
        },
        {
         "name": "TechEndorse",
         "rawType": "object",
         "type": "unknown"
        },
        {
         "name": "Country",
         "rawType": "object",
         "type": "string"
        },
        {
         "name": "Currency",
         "rawType": "object",
         "type": "unknown"
        },
        {
         "name": "CompTotal",
         "rawType": "float64",
         "type": "float"
        },
        {
         "name": "LanguageHaveWorkedWith",
         "rawType": "object",
         "type": "unknown"
        },
        {
         "name": "LanguageWantToWorkWith",
         "rawType": "object",
         "type": "unknown"
        },
        {
         "name": "LanguageAdmired",
         "rawType": "object",
         "type": "unknown"
        },
        {
         "name": "DatabaseHaveWorkedWith",
         "rawType": "object",
         "type": "unknown"
        },
        {
         "name": "DatabaseWantToWorkWith",
         "rawType": "object",
         "type": "unknown"
        },
        {
         "name": "DatabaseAdmired",
         "rawType": "object",
         "type": "unknown"
        },
        {
         "name": "PlatformHaveWorkedWith",
         "rawType": "object",
         "type": "unknown"
        },
        {
         "name": "PlatformWantToWorkWith",
         "rawType": "object",
         "type": "unknown"
        },
        {
         "name": "PlatformAdmired",
         "rawType": "object",
         "type": "unknown"
        },
        {
         "name": "WebframeHaveWorkedWith",
         "rawType": "object",
         "type": "unknown"
        },
        {
         "name": "WebframeWantToWorkWith",
         "rawType": "object",
         "type": "unknown"
        },
        {
         "name": "WebframeAdmired",
         "rawType": "object",
         "type": "unknown"
        },
        {
         "name": "EmbeddedHaveWorkedWith",
         "rawType": "object",
         "type": "unknown"
        },
        {
         "name": "EmbeddedWantToWorkWith",
         "rawType": "object",
         "type": "unknown"
        },
        {
         "name": "EmbeddedAdmired",
         "rawType": "object",
         "type": "unknown"
        },
        {
         "name": "MiscTechHaveWorkedWith",
         "rawType": "object",
         "type": "unknown"
        },
        {
         "name": "MiscTechWantToWorkWith",
         "rawType": "object",
         "type": "unknown"
        },
        {
         "name": "MiscTechAdmired",
         "rawType": "object",
         "type": "unknown"
        },
        {
         "name": "ToolsTechHaveWorkedWith",
         "rawType": "object",
         "type": "unknown"
        },
        {
         "name": "ToolsTechWantToWorkWith",
         "rawType": "object",
         "type": "unknown"
        },
        {
         "name": "ToolsTechAdmired",
         "rawType": "object",
         "type": "unknown"
        },
        {
         "name": "NEWCollabToolsHaveWorkedWith",
         "rawType": "object",
         "type": "unknown"
        },
        {
         "name": "NEWCollabToolsWantToWorkWith",
         "rawType": "object",
         "type": "unknown"
        },
        {
         "name": "NEWCollabToolsAdmired",
         "rawType": "object",
         "type": "unknown"
        },
        {
         "name": "OpSysPersonal use",
         "rawType": "object",
         "type": "unknown"
        },
        {
         "name": "OpSysProfessional use",
         "rawType": "object",
         "type": "unknown"
        },
        {
         "name": "OfficeStackAsyncHaveWorkedWith",
         "rawType": "object",
         "type": "unknown"
        },
        {
         "name": "OfficeStackAsyncWantToWorkWith",
         "rawType": "object",
         "type": "unknown"
        },
        {
         "name": "OfficeStackAsyncAdmired",
         "rawType": "object",
         "type": "unknown"
        },
        {
         "name": "OfficeStackSyncHaveWorkedWith",
         "rawType": "object",
         "type": "unknown"
        },
        {
         "name": "OfficeStackSyncWantToWorkWith",
         "rawType": "object",
         "type": "unknown"
        },
        {
         "name": "OfficeStackSyncAdmired",
         "rawType": "object",
         "type": "unknown"
        },
        {
         "name": "AISearchDevHaveWorkedWith",
         "rawType": "object",
         "type": "unknown"
        },
        {
         "name": "AISearchDevWantToWorkWith",
         "rawType": "object",
         "type": "unknown"
        },
        {
         "name": "AISearchDevAdmired",
         "rawType": "object",
         "type": "unknown"
        },
        {
         "name": "NEWSOSites",
         "rawType": "object",
         "type": "string"
        },
        {
         "name": "SOVisitFreq",
         "rawType": "object",
         "type": "unknown"
        },
        {
         "name": "SOAccount",
         "rawType": "object",
         "type": "unknown"
        },
        {
         "name": "SOPartFreq",
         "rawType": "object",
         "type": "unknown"
        },
        {
         "name": "SOHow",
         "rawType": "object",
         "type": "unknown"
        },
        {
         "name": "SOComm",
         "rawType": "object",
         "type": "unknown"
        },
        {
         "name": "AISelect",
         "rawType": "object",
         "type": "string"
        },
        {
         "name": "AISent",
         "rawType": "object",
         "type": "unknown"
        },
        {
         "name": "AIBen",
         "rawType": "object",
         "type": "unknown"
        },
        {
         "name": "AIAcc",
         "rawType": "object",
         "type": "unknown"
        },
        {
         "name": "AIComplex",
         "rawType": "object",
         "type": "unknown"
        },
        {
         "name": "AIToolCurrently Using",
         "rawType": "object",
         "type": "unknown"
        },
        {
         "name": "AIToolInterested in Using",
         "rawType": "object",
         "type": "unknown"
        },
        {
         "name": "AIToolNot interested in Using",
         "rawType": "object",
         "type": "unknown"
        },
        {
         "name": "AINextMuch more integrated",
         "rawType": "object",
         "type": "unknown"
        },
        {
         "name": "AINextNo change",
         "rawType": "object",
         "type": "unknown"
        },
        {
         "name": "AINextMore integrated",
         "rawType": "object",
         "type": "unknown"
        },
        {
         "name": "AINextLess integrated",
         "rawType": "object",
         "type": "unknown"
        },
        {
         "name": "AINextMuch less integrated",
         "rawType": "object",
         "type": "unknown"
        },
        {
         "name": "AIThreat",
         "rawType": "object",
         "type": "unknown"
        },
        {
         "name": "AIEthics",
         "rawType": "object",
         "type": "unknown"
        },
        {
         "name": "AIChallenges",
         "rawType": "object",
         "type": "unknown"
        },
        {
         "name": "TBranch",
         "rawType": "object",
         "type": "unknown"
        },
        {
         "name": "ICorPM",
         "rawType": "object",
         "type": "unknown"
        },
        {
         "name": "WorkExp",
         "rawType": "float64",
         "type": "float"
        },
        {
         "name": "Knowledge_1",
         "rawType": "object",
         "type": "unknown"
        },
        {
         "name": "Knowledge_2",
         "rawType": "object",
         "type": "unknown"
        },
        {
         "name": "Knowledge_3",
         "rawType": "object",
         "type": "unknown"
        },
        {
         "name": "Knowledge_4",
         "rawType": "object",
         "type": "unknown"
        },
        {
         "name": "Knowledge_5",
         "rawType": "object",
         "type": "unknown"
        },
        {
         "name": "Knowledge_6",
         "rawType": "object",
         "type": "unknown"
        },
        {
         "name": "Knowledge_7",
         "rawType": "object",
         "type": "unknown"
        },
        {
         "name": "Knowledge_8",
         "rawType": "object",
         "type": "unknown"
        },
        {
         "name": "Knowledge_9",
         "rawType": "object",
         "type": "unknown"
        },
        {
         "name": "Frequency_1",
         "rawType": "object",
         "type": "unknown"
        },
        {
         "name": "Frequency_2",
         "rawType": "object",
         "type": "unknown"
        },
        {
         "name": "Frequency_3",
         "rawType": "object",
         "type": "unknown"
        },
        {
         "name": "TimeSearching",
         "rawType": "object",
         "type": "unknown"
        },
        {
         "name": "TimeAnswering",
         "rawType": "object",
         "type": "unknown"
        },
        {
         "name": "Frustration",
         "rawType": "object",
         "type": "unknown"
        },
        {
         "name": "ProfessionalTech",
         "rawType": "object",
         "type": "unknown"
        },
        {
         "name": "ProfessionalCloud",
         "rawType": "object",
         "type": "unknown"
        },
        {
         "name": "ProfessionalQuestion",
         "rawType": "object",
         "type": "unknown"
        },
        {
         "name": "Industry",
         "rawType": "object",
         "type": "unknown"
        },
        {
         "name": "JobSatPoints_1",
         "rawType": "float64",
         "type": "float"
        },
        {
         "name": "JobSatPoints_4",
         "rawType": "float64",
         "type": "float"
        },
        {
         "name": "JobSatPoints_5",
         "rawType": "float64",
         "type": "float"
        },
        {
         "name": "JobSatPoints_6",
         "rawType": "float64",
         "type": "float"
        },
        {
         "name": "JobSatPoints_7",
         "rawType": "float64",
         "type": "float"
        },
        {
         "name": "JobSatPoints_8",
         "rawType": "float64",
         "type": "float"
        },
        {
         "name": "JobSatPoints_9",
         "rawType": "float64",
         "type": "float"
        },
        {
         "name": "JobSatPoints_10",
         "rawType": "float64",
         "type": "float"
        },
        {
         "name": "JobSatPoints_11",
         "rawType": "float64",
         "type": "float"
        },
        {
         "name": "SurveyLength",
         "rawType": "object",
         "type": "unknown"
        },
        {
         "name": "SurveyEase",
         "rawType": "object",
         "type": "unknown"
        },
        {
         "name": "ConvertedCompYearly",
         "rawType": "float64",
         "type": "float"
        },
        {
         "name": "JobSat",
         "rawType": "float64",
         "type": "float"
        }
       ],
       "conversionMethod": "pd.DataFrame",
       "ref": "a4805528-d830-425b-aa22-1b2612800339",
       "rows": [
        [
         "0",
         "1",
         "I am a developer by profession",
         "Under 18 years old",
         "Employed, full-time",
         "Remote",
         "Apples",
         "Hobby",
         "Primary/elementary school",
         "Books / Physical media",
         null,
         null,
         null,
         null,
         null,
         null,
         null,
         null,
         null,
         null,
         "United States of America",
         null,
         null,
         null,
         null,
         null,
         null,
         null,
         null,
         null,
         null,
         null,
         null,
         null,
         null,
         null,
         null,
         null,
         null,
         null,
         null,
         null,
         null,
         null,
         null,
         null,
         null,
         null,
         null,
         null,
         null,
         null,
         null,
         null,
         null,
         null,
         null,
         null,
         "I have never visited Stack Overflow or the Stack Exchange network",
         null,
         null,
         null,
         null,
         null,
         "Yes",
         "Very favorable",
         "Increase productivity",
         null,
         null,
         null,
         null,
         null,
         null,
         null,
         null,
         null,
         null,
         null,
         null,
         null,
         "No",
         null,
         null,
         null,
         null,
         null,
         null,
         null,
         null,
         null,
         null,
         null,
         null,
         null,
         null,
         null,
         null,
         null,
         null,
         null,
         null,
         null,
         null,
         null,
         null,
         null,
         null,
         null,
         null,
         null,
         null,
         null,
         null,
         null,
         null
        ],
        [
         "1",
         "2",
         "I am a developer by profession",
         "35-44 years old",
         "Employed, full-time",
         "Remote",
         "Apples",
         "Hobby;Contribute to open-source projects;Other (please specify):",
         "Bachelor’s degree (B.A., B.S., B.Eng., etc.)",
         "Books / Physical media;Colleague;On the job training;Other online resources (e.g., videos, blogs, forum, online community)",
         "Technical documentation;Blogs;Books;Written Tutorials;Stack Overflow",
         "API document(s) and/or SDK document(s);User guides or README files found in the source repository;First-party knowledge base;Traditional public search engine",
         "20",
         "17",
         "Developer, full-stack",
         null,
         null,
         null,
         null,
         null,
         "United Kingdom of Great Britain and Northern Ireland",
         null,
         null,
         "Bash/Shell (all shells);Go;HTML/CSS;Java;JavaScript;Python;TypeScript",
         "Bash/Shell (all shells);Go;HTML/CSS;Java;JavaScript;Kotlin;Python;TypeScript",
         "Bash/Shell (all shells);Go;HTML/CSS;Java;JavaScript;Python;TypeScript",
         "Dynamodb;MongoDB;PostgreSQL",
         "PostgreSQL",
         "PostgreSQL",
         "Amazon Web Services (AWS);Heroku;Netlify",
         "Amazon Web Services (AWS);Heroku;Netlify",
         "Amazon Web Services (AWS);Heroku;Netlify",
         "Express;Next.js;Node.js;React",
         "Express;Htmx;Node.js;React;Remix",
         "Express;Node.js;React",
         null,
         null,
         null,
         null,
         null,
         null,
         "Docker;Homebrew;Kubernetes;npm;Vite;Webpack",
         "Docker;Homebrew;Kubernetes;npm;Vite;Webpack",
         "Docker;Homebrew;Kubernetes;npm;Vite;Webpack",
         "PyCharm;Visual Studio Code;WebStorm",
         "PyCharm;Visual Studio Code;WebStorm",
         "PyCharm;Visual Studio Code;WebStorm",
         "MacOS;Windows",
         "MacOS",
         null,
         null,
         null,
         "Microsoft Teams;Slack",
         "Slack",
         "Slack",
         null,
         null,
         null,
         "Stack Overflow for Teams (private knowledge sharing & collaboration platform for companies);Stack Overflow;Stack Exchange",
         "Multiple times per day",
         "Yes",
         "Multiple times per day",
         "Quickly finding code solutions;Finding reliable guidance from community-vetted answers;Showcase expertise with code solutions;Engage with community by commenting on questions and answers or voting on questions and answers",
         "Yes, definitely",
         "No, and I don't plan to",
         null,
         null,
         null,
         null,
         null,
         null,
         null,
         null,
         null,
         null,
         null,
         null,
         null,
         null,
         null,
         "Yes",
         "Individual contributor",
         "17.0",
         "Agree",
         "Disagree",
         "Agree",
         "Agree",
         "Agree",
         "Neither agree nor disagree",
         "Disagree",
         "Agree",
         "Agree",
         null,
         null,
         null,
         null,
         null,
         null,
         null,
         null,
         null,
         null,
         "0.0",
         "0.0",
         "0.0",
         "0.0",
         "0.0",
         "0.0",
         "0.0",
         "0.0",
         "0.0",
         null,
         null,
         null,
         null
        ],
        [
         "2",
         "3",
         "I am a developer by profession",
         "45-54 years old",
         "Employed, full-time",
         "Remote",
         "Apples",
         "Hobby;Contribute to open-source projects;Other (please specify):",
         "Master’s degree (M.A., M.S., M.Eng., MBA, etc.)",
         "Books / Physical media;Colleague;On the job training;Other online resources (e.g., videos, blogs, forum, online community);School (i.e., University, College, etc)",
         "Technical documentation;Blogs;Books;Written Tutorials;Stack Overflow;Coding sessions (live or recorded);Social Media",
         "API document(s) and/or SDK document(s);User guides or README files found in the source repository;Traditional public search engine",
         "37",
         "27",
         "Developer Experience",
         null,
         null,
         null,
         null,
         null,
         "United Kingdom of Great Britain and Northern Ireland",
         null,
         null,
         "C#",
         "C#",
         "C#",
         "Firebase Realtime Database",
         "Firebase Realtime Database",
         "Firebase Realtime Database",
         "Google Cloud",
         "Google Cloud",
         "Google Cloud",
         "ASP.NET CORE",
         "ASP.NET CORE",
         "ASP.NET CORE",
         "Rasberry Pi",
         "Rasberry Pi",
         "Rasberry Pi",
         ".NET (5+) ;.NET Framework (1.0 - 4.8);.NET MAUI",
         ".NET (5+) ;.NET Framework (1.0 - 4.8);.NET MAUI",
         ".NET (5+) ;.NET Framework (1.0 - 4.8);.NET MAUI",
         "MSBuild",
         "MSBuild",
         "MSBuild",
         "Visual Studio",
         "Visual Studio",
         "Visual Studio",
         "Windows",
         "Windows",
         null,
         null,
         null,
         "Google Chat;Google Meet;Microsoft Teams;Zoom",
         "Google Chat;Google Meet;Zoom",
         "Google Chat;Google Meet;Zoom",
         null,
         null,
         null,
         "Stack Overflow;Stack Exchange;Stack Overflow Blog or Podcast",
         "Multiple times per day",
         "Yes",
         "Multiple times per day",
         "Quickly finding code solutions;Finding reliable guidance from community-vetted answers;Showcase expertise with code solutions;Engage with community by commenting on questions and answers or voting on questions and answers;Learning new-to-me technology/techniques;Learning new-to-everyone technology/techniques",
         "Yes, definitely",
         "No, and I don't plan to",
         null,
         null,
         null,
         null,
         null,
         null,
         null,
         null,
         null,
         null,
         null,
         null,
         null,
         null,
         null,
         "No",
         null,
         null,
         null,
         null,
         null,
         null,
         null,
         null,
         null,
         null,
         null,
         null,
         null,
         null,
         null,
         null,
         null,
         null,
         null,
         null,
         null,
         null,
         null,
         null,
         null,
         null,
         null,
         null,
         null,
         null,
         "Appropriate in length",
         "Easy",
         null,
         null
        ],
        [
         "3",
         "4",
         "I am learning to code",
         "18-24 years old",
         "Student, full-time",
         null,
         "Apples",
         null,
         "Some college/university study without earning a degree",
         "Other online resources (e.g., videos, blogs, forum, online community);School (i.e., University, College, etc);Online Courses or Certification",
         "Stack Overflow;How-to videos;Interactive tutorial",
         null,
         "4",
         null,
         "Developer, full-stack",
         null,
         null,
         null,
         null,
         null,
         "Canada",
         null,
         null,
         "C;C++;HTML/CSS;Java;JavaScript;PHP;PowerShell;Python;SQL;TypeScript",
         "HTML/CSS;Java;JavaScript;PowerShell;Python;SQL;TypeScript",
         "HTML/CSS;Java;JavaScript;PowerShell;Python;SQL;TypeScript",
         "MongoDB;MySQL;PostgreSQL;SQLite",
         "MongoDB;MySQL;PostgreSQL",
         "MongoDB;MySQL;PostgreSQL",
         "Amazon Web Services (AWS);Fly.io;Heroku",
         "Amazon Web Services (AWS);Vercel",
         "Amazon Web Services (AWS)",
         "jQuery;Next.js;Node.js;React;WordPress",
         "jQuery;Next.js;Node.js;React",
         "jQuery;Next.js;Node.js;React",
         "Rasberry Pi",
         null,
         null,
         "NumPy;Pandas;Ruff;TensorFlow",
         null,
         null,
         "Docker;npm;Pip",
         "Docker;Kubernetes;npm",
         "Docker;npm",
         null,
         null,
         null,
         null,
         null,
         null,
         null,
         null,
         null,
         null,
         null,
         null,
         null,
         null,
         "Stack Overflow",
         "Daily or almost daily",
         "No",
         null,
         "Quickly finding code solutions",
         "No, not really",
         "Yes",
         "Very favorable",
         "Increase productivity;Greater efficiency;Improve collaboration;Speed up learning;Improve accuracy in coding",
         "Somewhat trust",
         "Bad at handling complex tasks",
         "Learning about a codebase;Project planning;Writing code;Documenting code;Debugging and getting help;Deployment and monitoring;Search for answers;Generating content or synthetic data",
         "Testing code;Committing and reviewing code;Predictive analytics",
         null,
         "Learning about a codebase;Project planning;Writing code;Documenting code;Debugging and getting help;Deployment and monitoring;Search for answers;Generating content or synthetic data",
         null,
         null,
         null,
         null,
         "No",
         "Circulating misinformation or disinformation;Missing or incorrect attribution for sources of data",
         "Don’t trust the output or answers",
         null,
         null,
         null,
         null,
         null,
         null,
         null,
         null,
         null,
         null,
         null,
         null,
         null,
         null,
         null,
         null,
         null,
         null,
         null,
         null,
         null,
         null,
         null,
         null,
         null,
         null,
         null,
         null,
         null,
         null,
         null,
         "Too long",
         "Easy",
         null,
         null
        ],
        [
         "4",
         "5",
         "I am a developer by profession",
         "18-24 years old",
         "Student, full-time",
         null,
         "Apples",
         null,
         "Secondary school (e.g. American high school, German Realschule or Gymnasium, etc.)",
         "Other online resources (e.g., videos, blogs, forum, online community)",
         "Technical documentation;Blogs;Written Tutorials;Stack Overflow;Social Media;Video-based Online Courses",
         "API document(s) and/or SDK document(s);User guides or README files found in the source repository;First-party knowledge base;Traditional public search engine",
         "9",
         null,
         "Developer, full-stack",
         null,
         null,
         null,
         null,
         null,
         "Norway",
         null,
         null,
         "C++;HTML/CSS;JavaScript;Lua;Python;Rust",
         "C++;HTML/CSS;JavaScript;Lua;Python",
         "C++;HTML/CSS;JavaScript;Lua;Python",
         "PostgreSQL;SQLite",
         "PostgreSQL;SQLite",
         "PostgreSQL;SQLite",
         null,
         null,
         null,
         null,
         null,
         null,
         "CMake;Cargo;Rasberry Pi",
         "CMake;Rasberry Pi",
         "CMake;Rasberry Pi",
         null,
         null,
         null,
         "APT;Make;npm",
         "APT;Make",
         "APT;Make",
         "Vim",
         "Vim",
         "Vim",
         "Other (please specify):",
         null,
         "GitHub Discussions;Markdown File;Obsidian;Stack Overflow for Teams",
         "GitHub Discussions;Markdown File;Obsidian",
         "GitHub Discussions;Markdown File;Obsidian",
         "Discord;Whatsapp",
         "Discord;Whatsapp",
         "Discord;Whatsapp",
         null,
         null,
         null,
         "Stack Overflow for Teams (private knowledge sharing & collaboration platform for companies);Stack Overflow;Stack Exchange",
         "Multiple times per day",
         "Yes",
         "Multiple times per day",
         "Quickly finding code solutions;Engage with community by commenting on questions and answers or voting on questions and answers;Learning new-to-me technology/techniques;Other (please specify):",
         "Yes, definitely",
         "No, and I don't plan to",
         null,
         null,
         null,
         null,
         null,
         null,
         null,
         null,
         null,
         null,
         null,
         null,
         null,
         null,
         null,
         null,
         null,
         null,
         null,
         null,
         null,
         null,
         null,
         null,
         null,
         null,
         null,
         null,
         null,
         null,
         null,
         null,
         null,
         null,
         null,
         null,
         null,
         null,
         null,
         null,
         null,
         null,
         null,
         null,
         null,
         null,
         "Too short",
         "Easy",
         null,
         null
        ]
       ],
       "shape": {
        "columns": 114,
        "rows": 5
       }
      },
      "text/html": [
       "<div>\n",
       "<style scoped>\n",
       "    .dataframe tbody tr th:only-of-type {\n",
       "        vertical-align: middle;\n",
       "    }\n",
       "\n",
       "    .dataframe tbody tr th {\n",
       "        vertical-align: top;\n",
       "    }\n",
       "\n",
       "    .dataframe thead th {\n",
       "        text-align: right;\n",
       "    }\n",
       "</style>\n",
       "<table border=\"1\" class=\"dataframe\">\n",
       "  <thead>\n",
       "    <tr style=\"text-align: right;\">\n",
       "      <th></th>\n",
       "      <th>ResponseId</th>\n",
       "      <th>MainBranch</th>\n",
       "      <th>Age</th>\n",
       "      <th>Employment</th>\n",
       "      <th>RemoteWork</th>\n",
       "      <th>Check</th>\n",
       "      <th>CodingActivities</th>\n",
       "      <th>EdLevel</th>\n",
       "      <th>LearnCode</th>\n",
       "      <th>LearnCodeOnline</th>\n",
       "      <th>...</th>\n",
       "      <th>JobSatPoints_6</th>\n",
       "      <th>JobSatPoints_7</th>\n",
       "      <th>JobSatPoints_8</th>\n",
       "      <th>JobSatPoints_9</th>\n",
       "      <th>JobSatPoints_10</th>\n",
       "      <th>JobSatPoints_11</th>\n",
       "      <th>SurveyLength</th>\n",
       "      <th>SurveyEase</th>\n",
       "      <th>ConvertedCompYearly</th>\n",
       "      <th>JobSat</th>\n",
       "    </tr>\n",
       "  </thead>\n",
       "  <tbody>\n",
       "    <tr>\n",
       "      <th>0</th>\n",
       "      <td>1</td>\n",
       "      <td>I am a developer by profession</td>\n",
       "      <td>Under 18 years old</td>\n",
       "      <td>Employed, full-time</td>\n",
       "      <td>Remote</td>\n",
       "      <td>Apples</td>\n",
       "      <td>Hobby</td>\n",
       "      <td>Primary/elementary school</td>\n",
       "      <td>Books / Physical media</td>\n",
       "      <td>NaN</td>\n",
       "      <td>...</td>\n",
       "      <td>NaN</td>\n",
       "      <td>NaN</td>\n",
       "      <td>NaN</td>\n",
       "      <td>NaN</td>\n",
       "      <td>NaN</td>\n",
       "      <td>NaN</td>\n",
       "      <td>NaN</td>\n",
       "      <td>NaN</td>\n",
       "      <td>NaN</td>\n",
       "      <td>NaN</td>\n",
       "    </tr>\n",
       "    <tr>\n",
       "      <th>1</th>\n",
       "      <td>2</td>\n",
       "      <td>I am a developer by profession</td>\n",
       "      <td>35-44 years old</td>\n",
       "      <td>Employed, full-time</td>\n",
       "      <td>Remote</td>\n",
       "      <td>Apples</td>\n",
       "      <td>Hobby;Contribute to open-source projects;Other...</td>\n",
       "      <td>Bachelor’s degree (B.A., B.S., B.Eng., etc.)</td>\n",
       "      <td>Books / Physical media;Colleague;On the job tr...</td>\n",
       "      <td>Technical documentation;Blogs;Books;Written Tu...</td>\n",
       "      <td>...</td>\n",
       "      <td>0.0</td>\n",
       "      <td>0.0</td>\n",
       "      <td>0.0</td>\n",
       "      <td>0.0</td>\n",
       "      <td>0.0</td>\n",
       "      <td>0.0</td>\n",
       "      <td>NaN</td>\n",
       "      <td>NaN</td>\n",
       "      <td>NaN</td>\n",
       "      <td>NaN</td>\n",
       "    </tr>\n",
       "    <tr>\n",
       "      <th>2</th>\n",
       "      <td>3</td>\n",
       "      <td>I am a developer by profession</td>\n",
       "      <td>45-54 years old</td>\n",
       "      <td>Employed, full-time</td>\n",
       "      <td>Remote</td>\n",
       "      <td>Apples</td>\n",
       "      <td>Hobby;Contribute to open-source projects;Other...</td>\n",
       "      <td>Master’s degree (M.A., M.S., M.Eng., MBA, etc.)</td>\n",
       "      <td>Books / Physical media;Colleague;On the job tr...</td>\n",
       "      <td>Technical documentation;Blogs;Books;Written Tu...</td>\n",
       "      <td>...</td>\n",
       "      <td>NaN</td>\n",
       "      <td>NaN</td>\n",
       "      <td>NaN</td>\n",
       "      <td>NaN</td>\n",
       "      <td>NaN</td>\n",
       "      <td>NaN</td>\n",
       "      <td>Appropriate in length</td>\n",
       "      <td>Easy</td>\n",
       "      <td>NaN</td>\n",
       "      <td>NaN</td>\n",
       "    </tr>\n",
       "    <tr>\n",
       "      <th>3</th>\n",
       "      <td>4</td>\n",
       "      <td>I am learning to code</td>\n",
       "      <td>18-24 years old</td>\n",
       "      <td>Student, full-time</td>\n",
       "      <td>NaN</td>\n",
       "      <td>Apples</td>\n",
       "      <td>NaN</td>\n",
       "      <td>Some college/university study without earning ...</td>\n",
       "      <td>Other online resources (e.g., videos, blogs, f...</td>\n",
       "      <td>Stack Overflow;How-to videos;Interactive tutorial</td>\n",
       "      <td>...</td>\n",
       "      <td>NaN</td>\n",
       "      <td>NaN</td>\n",
       "      <td>NaN</td>\n",
       "      <td>NaN</td>\n",
       "      <td>NaN</td>\n",
       "      <td>NaN</td>\n",
       "      <td>Too long</td>\n",
       "      <td>Easy</td>\n",
       "      <td>NaN</td>\n",
       "      <td>NaN</td>\n",
       "    </tr>\n",
       "    <tr>\n",
       "      <th>4</th>\n",
       "      <td>5</td>\n",
       "      <td>I am a developer by profession</td>\n",
       "      <td>18-24 years old</td>\n",
       "      <td>Student, full-time</td>\n",
       "      <td>NaN</td>\n",
       "      <td>Apples</td>\n",
       "      <td>NaN</td>\n",
       "      <td>Secondary school (e.g. American high school, G...</td>\n",
       "      <td>Other online resources (e.g., videos, blogs, f...</td>\n",
       "      <td>Technical documentation;Blogs;Written Tutorial...</td>\n",
       "      <td>...</td>\n",
       "      <td>NaN</td>\n",
       "      <td>NaN</td>\n",
       "      <td>NaN</td>\n",
       "      <td>NaN</td>\n",
       "      <td>NaN</td>\n",
       "      <td>NaN</td>\n",
       "      <td>Too short</td>\n",
       "      <td>Easy</td>\n",
       "      <td>NaN</td>\n",
       "      <td>NaN</td>\n",
       "    </tr>\n",
       "  </tbody>\n",
       "</table>\n",
       "<p>5 rows × 114 columns</p>\n",
       "</div>"
      ],
      "text/plain": [
       "   ResponseId                      MainBranch                 Age  \\\n",
       "0           1  I am a developer by profession  Under 18 years old   \n",
       "1           2  I am a developer by profession     35-44 years old   \n",
       "2           3  I am a developer by profession     45-54 years old   \n",
       "3           4           I am learning to code     18-24 years old   \n",
       "4           5  I am a developer by profession     18-24 years old   \n",
       "\n",
       "            Employment RemoteWork   Check  \\\n",
       "0  Employed, full-time     Remote  Apples   \n",
       "1  Employed, full-time     Remote  Apples   \n",
       "2  Employed, full-time     Remote  Apples   \n",
       "3   Student, full-time        NaN  Apples   \n",
       "4   Student, full-time        NaN  Apples   \n",
       "\n",
       "                                    CodingActivities  \\\n",
       "0                                              Hobby   \n",
       "1  Hobby;Contribute to open-source projects;Other...   \n",
       "2  Hobby;Contribute to open-source projects;Other...   \n",
       "3                                                NaN   \n",
       "4                                                NaN   \n",
       "\n",
       "                                             EdLevel  \\\n",
       "0                          Primary/elementary school   \n",
       "1       Bachelor’s degree (B.A., B.S., B.Eng., etc.)   \n",
       "2    Master’s degree (M.A., M.S., M.Eng., MBA, etc.)   \n",
       "3  Some college/university study without earning ...   \n",
       "4  Secondary school (e.g. American high school, G...   \n",
       "\n",
       "                                           LearnCode  \\\n",
       "0                             Books / Physical media   \n",
       "1  Books / Physical media;Colleague;On the job tr...   \n",
       "2  Books / Physical media;Colleague;On the job tr...   \n",
       "3  Other online resources (e.g., videos, blogs, f...   \n",
       "4  Other online resources (e.g., videos, blogs, f...   \n",
       "\n",
       "                                     LearnCodeOnline  ... JobSatPoints_6  \\\n",
       "0                                                NaN  ...            NaN   \n",
       "1  Technical documentation;Blogs;Books;Written Tu...  ...            0.0   \n",
       "2  Technical documentation;Blogs;Books;Written Tu...  ...            NaN   \n",
       "3  Stack Overflow;How-to videos;Interactive tutorial  ...            NaN   \n",
       "4  Technical documentation;Blogs;Written Tutorial...  ...            NaN   \n",
       "\n",
       "  JobSatPoints_7 JobSatPoints_8 JobSatPoints_9 JobSatPoints_10  \\\n",
       "0            NaN            NaN            NaN             NaN   \n",
       "1            0.0            0.0            0.0             0.0   \n",
       "2            NaN            NaN            NaN             NaN   \n",
       "3            NaN            NaN            NaN             NaN   \n",
       "4            NaN            NaN            NaN             NaN   \n",
       "\n",
       "  JobSatPoints_11           SurveyLength SurveyEase ConvertedCompYearly JobSat  \n",
       "0             NaN                    NaN        NaN                 NaN    NaN  \n",
       "1             0.0                    NaN        NaN                 NaN    NaN  \n",
       "2             NaN  Appropriate in length       Easy                 NaN    NaN  \n",
       "3             NaN               Too long       Easy                 NaN    NaN  \n",
       "4             NaN              Too short       Easy                 NaN    NaN  \n",
       "\n",
       "[5 rows x 114 columns]"
      ]
     },
     "execution_count": 7,
     "metadata": {},
     "output_type": "execute_result"
    }
   ],
   "source": [
    "df.head()"
   ]
  },
  {
   "cell_type": "markdown",
   "metadata": {},
   "source": [
    "## Find out the number of rows and columns\n"
   ]
  },
  {
   "cell_type": "markdown",
   "metadata": {},
   "source": [
    "Start by exploring the numbers of rows and columns of data in the dataset.\n"
   ]
  },
  {
   "cell_type": "markdown",
   "metadata": {},
   "source": [
    "Print the number of rows in the dataset.\n"
   ]
  },
  {
   "cell_type": "code",
   "execution_count": 8,
   "metadata": {},
   "outputs": [
    {
     "name": "stdout",
     "output_type": "stream",
     "text": [
      "Number of rows in the dataset: 65437\n",
      "Number of rows: 65437\n",
      "Number of rows: 65437\n"
     ]
    }
   ],
   "source": [
    "# Print the number of rows\n",
    "print(\"Number of rows in the dataset:\", df.shape[0])\n",
    "print(\"Number of rows:\", len(df))\n",
    "print(\"Number of rows:\", df.count().max())  # Counts non-null values in the longest column\n",
    "\n"
   ]
  },
  {
   "cell_type": "markdown",
   "metadata": {},
   "source": [
    "Print the number of columns in the dataset.\n"
   ]
  },
  {
   "cell_type": "code",
   "execution_count": 9,
   "metadata": {},
   "outputs": [
    {
     "name": "stdout",
     "output_type": "stream",
     "text": [
      "Number of columns in the dataset: 114\n",
      "Number of columns: 114\n",
      "Number of columns: 114\n"
     ]
    }
   ],
   "source": [
    "# Print the number of columns\n",
    "print(\"Number of columns in the dataset:\", df.shape[1])\n",
    "print(\"Number of columns:\", len(df.columns))\n",
    "print(\"Number of columns:\", df.columns.size)"
   ]
  },
  {
   "cell_type": "markdown",
   "metadata": {},
   "source": [
    "Print the number of rows and columns in the dataset."
   ]
  },
  {
   "cell_type": "code",
   "execution_count": 10,
   "metadata": {},
   "outputs": [
    {
     "data": {
      "text/plain": [
       "(65437, 114)"
      ]
     },
     "execution_count": 10,
     "metadata": {},
     "output_type": "execute_result"
    }
   ],
   "source": [
    "df.shape"
   ]
  },
  {
   "cell_type": "markdown",
   "metadata": {},
   "source": [
    "Print the mean age of the survey participants.\n"
   ]
  },
  {
   "cell_type": "code",
   "execution_count": 14,
   "metadata": {},
   "outputs": [],
   "source": [
    "# create a list unique ages are there in the Age column\n",
    "unique_ages = df['Age'].unique().tolist()  # The .tolist() converts the result to a Python list"
   ]
  },
  {
   "cell_type": "code",
   "execution_count": 19,
   "metadata": {},
   "outputs": [
    {
     "name": "stdout",
     "output_type": "stream",
     "text": [
      "['Under 18 years old', '35-44 years old', '45-54 years old', '18-24 years old', '25-34 years old', '55-64 years old', 'Prefer not to say', '65 years or older']\n"
     ]
    }
   ],
   "source": [
    "print(unique_ages)"
   ]
  },
  {
   "cell_type": "markdown",
   "metadata": {},
   "source": [
    "Find the midpoint of each age range: (start + end) / 2\n",
    "\n",
    "- Under 18: We'll use 15 (midpoint between 0 and 18 is 17.5 and given that no age will be below zero, we choose an estimate for under 18 closer to zero. Using an estimate of 15)\n",
    "- 18-24: 21\n",
    "- 25-34: 29.5\n",
    "- 35-44: 39.5\n",
    "- 45-54: 49.5\n",
    "- 55-64: 59.5\n",
    "- Prefer not to say: np.nan\n",
    "- 65 years or older: 75\n"
   ]
  },
  {
   "cell_type": "code",
   "execution_count": 16,
   "metadata": {},
   "outputs": [],
   "source": [
    "# Define midpoints for age ranges. Using lower estimates for <18 for better representation since no age is below zero\n",
    "import numpy as np\n",
    "\n",
    "midpoints = {\n",
    "    'Under 18 years old': 15,\n",
    "    '18-24 years old': 21,\n",
    "    '25-34 years old': 29.5,\n",
    "    '35-44 years old': 39.5,\n",
    "    '45-54 years old': 49.5,\n",
    "    '55-64 years old': 59.5,\n",
    "    '65 years or older': 70,\n",
    "    'Prefer not to say': np.nan\n",
    "}"
   ]
  },
  {
   "cell_type": "code",
   "execution_count": 17,
   "metadata": {},
   "outputs": [],
   "source": [
    "# Map age ranges to midpoints, ensuring NaN values are handled (if any) by filling with 0\n",
    "df['Midpoint'] = df['Age'].map(midpoints).fillna(0)"
   ]
  },
  {
   "cell_type": "code",
   "execution_count": 18,
   "metadata": {},
   "outputs": [
    {
     "name": "stdout",
     "output_type": "stream",
     "text": [
      "The estimated mean age is: 32.80620291272522\n"
     ]
    }
   ],
   "source": [
    "estimated_mean_age = df['Midpoint'].mean()\n",
    "\n",
    "print(f\"The estimated mean age is: {estimated_mean_age}\")"
   ]
  },
  {
   "cell_type": "code",
   "execution_count": 29,
   "metadata": {},
   "outputs": [
    {
     "name": "stdout",
     "output_type": "stream",
     "text": [
      "Number of unique countries: 186\n"
     ]
    }
   ],
   "source": [
    "# create a list unique countries are there in the country column\n",
    "unique_countries = df['Country'].unique().tolist()  # The .tolist() converts the result to a Python list\n",
    "# Print the number of unique countries\n",
    "print(\"Number of unique countries:\", len(unique_countries))"
   ]
  }
 ],
 "metadata": {
  "kernelspec": {
   "display_name": "Python 3",
   "language": "python",
   "name": "python3"
  },
  "language_info": {
   "codemirror_mode": {
    "name": "ipython",
    "version": 3
   },
   "file_extension": ".py",
   "mimetype": "text/x-python",
   "name": "python",
   "nbconvert_exporter": "python",
   "pygments_lexer": "ipython3",
   "version": "3.12.3"
  }
 },
 "nbformat": 4,
 "nbformat_minor": 2
}
