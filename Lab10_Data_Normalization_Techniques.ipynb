{
 "cells": [
  {
   "cell_type": "markdown",
   "metadata": {},
   "source": [
    "# **Data Normalization Techniques**\n"
   ]
  },
  {
   "cell_type": "markdown",
   "metadata": {},
   "source": [
    "Estimated time needed: **30** minutes\n"
   ]
  },
  {
   "cell_type": "markdown",
   "metadata": {},
   "source": [
    "In this lab, you will focus on data normalization. This includes identifying compensation-related columns, applying normalization techniques, and visualizing the data distributions.\n"
   ]
  },
  {
   "cell_type": "markdown",
   "metadata": {},
   "source": [
    "## Objectives\n"
   ]
  },
  {
   "cell_type": "markdown",
   "metadata": {},
   "source": [
    "In this lab, you will perform the following:\n"
   ]
  },
  {
   "cell_type": "markdown",
   "metadata": {},
   "source": [
    "- Identify duplicate rows and remove them.\n",
    "\n",
    "- Check and handle missing values in key columns.\n",
    "\n",
    "- Identify and normalize compensation-related columns.\n",
    "\n",
    "- Visualize the effect of normalization techniques on data distributions.\n"
   ]
  },
  {
   "cell_type": "markdown",
   "metadata": {},
   "source": [
    "## Hands on Lab\n"
   ]
  },
  {
   "cell_type": "markdown",
   "metadata": {},
   "source": [
    "#### Step 1: Install and Import Libraries\n"
   ]
  },
  {
   "cell_type": "code",
   "execution_count": 1,
   "metadata": {},
   "outputs": [],
   "source": [
    "def import_libraries():\n",
    "    \"\"\"\n",
    "    Imports required libraries for data analysis.\n",
    "    \"\"\"\n",
    "    global pd, np, plt, sns\n",
    "    import pandas as pd\n",
    "    import numpy as np\n",
    "    import matplotlib.pyplot as plt\n",
    "    import seaborn as sns\n",
    "\n",
    "    # Set plot styles\n",
    "    sns.set(style='whitegrid', palette='deep')\n",
    "    plt.rcParams['figure.figsize'] = (10, 6)\n",
    "    plt.rcParams['axes.titlesize'] = 16\n",
    "    plt.rcParams['axes.labelsize'] = 14\n",
    "\n",
    "    print(\"Libraries imported successfully.\")\n"
   ]
  },
  {
   "cell_type": "code",
   "execution_count": 2,
   "metadata": {},
   "outputs": [
    {
     "name": "stdout",
     "output_type": "stream",
     "text": [
      "Libraries imported successfully.\n"
     ]
    }
   ],
   "source": [
    "import_libraries()\n"
   ]
  },
  {
   "cell_type": "markdown",
   "metadata": {},
   "source": [
    "### Step 2: Load the Dataset into a DataFrame\n"
   ]
  },
  {
   "cell_type": "code",
   "execution_count": 3,
   "metadata": {},
   "outputs": [],
   "source": [
    "def load_dataset(file_path):\n",
    "    \"\"\"\n",
    "    Loads the dataset into a pandas DataFrame.\n",
    "\n",
    "    Parameters:\n",
    "        file_path (str): The path to the CSV file.\n",
    "\n",
    "    Returns:\n",
    "        pd.DataFrame: The loaded DataFrame.\n",
    "    \"\"\"\n",
    "    try:\n",
    "        df = pd.read_csv(file_path)\n",
    "        print(f\"Dataset loaded successfully. Shape: {df.shape}\")\n",
    "        return df\n",
    "    except FileNotFoundError:\n",
    "        print(\"File not found. Please check the file path.\")\n",
    "        return None\n"
   ]
  },
  {
   "cell_type": "code",
   "execution_count": 34,
   "metadata": {},
   "outputs": [
    {
     "name": "stdout",
     "output_type": "stream",
     "text": [
      "Dataset loaded successfully. Shape: (65437, 114)\n"
     ]
    }
   ],
   "source": [
    "# load your dataset from a specified file path.\n",
    "file_path = \"https://cf-courses-data.s3.us.cloud-object-storage.appdomain.cloud/n01PQ9pSmiRX6520flujwQ/survey-data.csv\"  # Update with your actual file path\n",
    "df = load_dataset(file_path)"
   ]
  },
  {
   "cell_type": "markdown",
   "metadata": {},
   "source": [
    "### Section 1: Handling Duplicates\n",
    "##### Task 1: Identify and remove duplicate rows.\n"
   ]
  },
  {
   "cell_type": "code",
   "execution_count": 6,
   "metadata": {},
   "outputs": [],
   "source": [
    "def identify_duplicates(df):\n",
    "    \"\"\"\n",
    "    Identifies duplicate rows in the DataFrame.\n",
    "\n",
    "    Parameters:\n",
    "        df (pd.DataFrame): The DataFrame to check for duplicates.\n",
    "\n",
    "    Returns:\n",
    "        pd.DataFrame: DataFrame containing duplicate rows.\n",
    "        int: Number of duplicate rows.\n",
    "    \"\"\"\n",
    "    duplicates = df[df.duplicated()]\n",
    "    num_duplicates = duplicates.shape[0]\n",
    "    print(f\"Number of duplicate rows: {num_duplicates}\")\n",
    "    return duplicates, num_duplicates\n"
   ]
  },
  {
   "cell_type": "code",
   "execution_count": 35,
   "metadata": {},
   "outputs": [
    {
     "name": "stdout",
     "output_type": "stream",
     "text": [
      "Dataset loaded successfully. Shape: (65437, 114)\n",
      "Number of duplicate rows: 0\n"
     ]
    }
   ],
   "source": [
    "# load your dataset from a specified file path.\n",
    "file_path = \"https://cf-courses-data.s3.us.cloud-object-storage.appdomain.cloud/n01PQ9pSmiRX6520flujwQ/survey-data.csv\"  # Update with your actual file path\n",
    "df = load_dataset(file_path)\n",
    "duplicates, num_duplicates = identify_duplicates(df)"
   ]
  },
  {
   "cell_type": "code",
   "execution_count": 8,
   "metadata": {},
   "outputs": [],
   "source": [
    "def remove_duplicates(df):\n",
    "    \"\"\"\n",
    "    Removes duplicate rows from the DataFrame.\n",
    "\n",
    "    Parameters:\n",
    "        df (pd.DataFrame): The DataFrame to remove duplicates from.\n",
    "\n",
    "    Returns:\n",
    "        pd.DataFrame: DataFrame with duplicates removed.\n",
    "    \"\"\"\n",
    "    initial_shape = df.shape\n",
    "    df.drop_duplicates(inplace=True)\n",
    "    final_shape = df.shape\n",
    "    print(f\"Duplicates removed. DataFrame shape changed from {initial_shape} to {final_shape}.\")\n",
    "    return df\n"
   ]
  },
  {
   "cell_type": "code",
   "execution_count": 36,
   "metadata": {},
   "outputs": [
    {
     "name": "stdout",
     "output_type": "stream",
     "text": [
      "Dataset loaded successfully. Shape: (65437, 114)\n",
      "Duplicates removed. DataFrame shape changed from (65437, 114) to (65437, 114).\n"
     ]
    }
   ],
   "source": [
    "# load your dataset from a specified file path.\n",
    "file_path = \"https://cf-courses-data.s3.us.cloud-object-storage.appdomain.cloud/n01PQ9pSmiRX6520flujwQ/survey-data.csv\"  # Update with your actual file path\n",
    "df = load_dataset(file_path)\n",
    "df = remove_duplicates(df)"
   ]
  },
  {
   "cell_type": "markdown",
   "metadata": {},
   "source": [
    "### Section 2: Handling Missing Values\n",
    "##### Task 2: Identify missing values in `CodingActivities`.\n"
   ]
  },
  {
   "cell_type": "code",
   "execution_count": 11,
   "metadata": {},
   "outputs": [],
   "source": [
    "def missing_in_column(df, column_name):\n",
    "    \"\"\"\n",
    "    Finds the number of missing values in a specific column.\n",
    "\n",
    "    Parameters:\n",
    "        df (pd.DataFrame): The DataFrame to check.\n",
    "        column_name (str): The column to inspect.\n",
    "\n",
    "    Returns:\n",
    "        int: Number of missing values in the column.\n",
    "    \"\"\"\n",
    "    missing_count = df[column_name].isnull().sum()\n",
    "    print(f\"Number of missing values in '{column_name}': {missing_count}\")\n",
    "    return missing_count\n"
   ]
  },
  {
   "cell_type": "code",
   "execution_count": 37,
   "metadata": {},
   "outputs": [
    {
     "name": "stdout",
     "output_type": "stream",
     "text": [
      "Dataset loaded successfully. Shape: (65437, 114)\n",
      "Duplicates removed. DataFrame shape changed from (65437, 114) to (65437, 114).\n",
      "Number of missing values in 'CodingActivities': 10971\n"
     ]
    }
   ],
   "source": [
    "# load your dataset from a specified file path.\n",
    "file_path = \"https://cf-courses-data.s3.us.cloud-object-storage.appdomain.cloud/n01PQ9pSmiRX6520flujwQ/survey-data.csv\"  # Update with your actual file path\n",
    "df = load_dataset(file_path)\n",
    "\n",
    "# Remove the duplicate rows from the dataframe.\n",
    "df = remove_duplicates(df)\n",
    "\n",
    "missing_CodingActivities = missing_in_column(df, 'CodingActivities')\n"
   ]
  },
  {
   "cell_type": "markdown",
   "metadata": {},
   "source": [
    "##### Task 3: Impute missing values in CodingActivities with forward-fill.\n"
   ]
  },
  {
   "cell_type": "markdown",
   "metadata": {},
   "source": [
    "Imputing missing values in the 'CodingActivities' column using forward-fill is an effective method when you expect that the missing values can be reasonably filled by the last known value.\n",
    "\n",
    "This approach is particularly suitable for time-series data or when the data has a logical sequential order."
   ]
  },
  {
   "cell_type": "code",
   "execution_count": 13,
   "metadata": {},
   "outputs": [],
   "source": [
    "def impute_coding_activities_ffill(df):\n",
    "    \"\"\"\n",
    "    Imputes missing values in the 'CodingActivities' column using forward-fill.\n",
    "\n",
    "    Parameters:\n",
    "        df (pd.DataFrame): The DataFrame containing the 'CodingActivities' column.\n",
    "\n",
    "    Returns:\n",
    "        pd.DataFrame: The DataFrame with missing 'CodingActivities' values imputed.\n",
    "    \"\"\"\n",
    "    import pandas as pd\n",
    "\n",
    "    # Check if 'CodingActivities' column exists\n",
    "    if 'CodingActivities' in df.columns:\n",
    "        # Count missing values before imputation\n",
    "        missing_before = df['CodingActivities'].isnull().sum()\n",
    "        print(f\"Missing values in 'CodingActivities' before imputation: {missing_before}\")\n",
    "\n",
    "        # Perform forward-fill imputation\n",
    "        df['CodingActivities'].fillna(method='ffill', inplace=True)\n",
    "\n",
    "        # Count missing values after imputation\n",
    "        missing_after = df['CodingActivities'].isnull().sum()\n",
    "        print(f\"Missing values in 'CodingActivities' after imputation: {missing_after}\")\n",
    "\n",
    "        # Handle any remaining missing values at the start of the DataFrame\n",
    "        if missing_after > 0:\n",
    "            print(\"Note: Some missing values couldn't be imputed with forward-fill (they might be at the beginning of the DataFrame). Consider using backward-fill for these.\")\n",
    "            # Optional: Uncomment the following line to apply backward-fill\n",
    "            # df['CodingActivities'].fillna(method='bfill', inplace=True)\n",
    "\n",
    "    else:\n",
    "        print(\"The 'CodingActivities' column does not exist in the DataFrame.\")\n",
    "\n",
    "    return df\n"
   ]
  },
  {
   "cell_type": "code",
   "execution_count": 33,
   "metadata": {},
   "outputs": [
    {
     "name": "stdout",
     "output_type": "stream",
     "text": [
      "Dataset loaded successfully. Shape: (65437, 114)\n",
      "Missing values in 'CodingActivities' before imputation: 10971\n",
      "Missing values in 'CodingActivities' after imputation: 0\n"
     ]
    },
    {
     "name": "stderr",
     "output_type": "stream",
     "text": [
      "C:\\Users\\tdhoa\\AppData\\Local\\Temp\\ipykernel_19108\\2375513216.py:20: FutureWarning: A value is trying to be set on a copy of a DataFrame or Series through chained assignment using an inplace method.\n",
      "The behavior will change in pandas 3.0. This inplace method will never work because the intermediate object on which we are setting values always behaves as a copy.\n",
      "\n",
      "For example, when doing 'df[col].method(value, inplace=True)', try using 'df.method({col: value}, inplace=True)' or df[col] = df[col].method(value) instead, to perform the operation inplace on the original object.\n",
      "\n",
      "\n",
      "  df['CodingActivities'].fillna(method='ffill', inplace=True)\n",
      "C:\\Users\\tdhoa\\AppData\\Local\\Temp\\ipykernel_19108\\2375513216.py:20: FutureWarning: Series.fillna with 'method' is deprecated and will raise in a future version. Use obj.ffill() or obj.bfill() instead.\n",
      "  df['CodingActivities'].fillna(method='ffill', inplace=True)\n"
     ]
    }
   ],
   "source": [
    "# Step 1: Import Required Libraries\n",
    "import pandas as pd\n",
    "\n",
    "# Step 2: Load your dataset\n",
    "file_path = \"https://cf-courses-data.s3.us.cloud-object-storage.appdomain.cloud/n01PQ9pSmiRX6520flujwQ/survey-data.csv\"  # Update with your actual file path\n",
    "df = load_dataset(file_path)\n",
    "\n",
    "# Step 3: Impute missing values in 'CodingActivities'\n",
    "df = impute_coding_activities_ffill(df)"
   ]
  },
  {
   "cell_type": "markdown",
   "metadata": {},
   "source": [
    "**Considerations:**\n",
    "\n",
    "- Data Sorting: Ensure that the DataFrame is sorted appropriately before applying forward-fill. If there's a time component or specific order to your data, sort it accordingly to maintain data integrity.\n",
    "\n",
    "- Data Suitability: Forward-fill is suitable when you expect that missing values can be reasonably assumed to be the same as the previous entry. This might not be appropriate for all datasets or columns.\n",
    "\n",
    "- Alternative Methods: If forward-fill isn't appropriate, consider other imputation methods such as backward-fill (bfill), interpolation, or filling with statistics like mean, median, or mode."
   ]
  },
  {
   "cell_type": "markdown",
   "metadata": {},
   "source": [
    "**Note**:  Before normalizing ConvertedCompYearly, ensure that any missing values (NaN) in this column are handled appropriately. You can choose to either drop the rows containing NaN or replace the missing values with a suitable statistic (e.g., median or mean).\n"
   ]
  },
  {
   "cell_type": "markdown",
   "metadata": {},
   "source": [
    "### Section 3: Normalizing Compensation Data\n",
    "##### Task 4: Identify compensation-related columns, such as ConvertedCompYearly.\n",
    "Normalization is commonly applied to compensation data to bring values within a comparable range. Here, you’ll identify ConvertedCompYearly or similar columns, which contain compensation information. This column will be used in the subsequent tasks for normalization.\n"
   ]
  },
  {
   "cell_type": "code",
   "execution_count": 18,
   "metadata": {},
   "outputs": [],
   "source": [
    "def check_compensation_columns(df):\n",
    "    \"\"\"\n",
    "    Identifies compensation-related columns in a DataFrame.\n",
    "\n",
    "    Parameters:\n",
    "        df (pd.DataFrame): The DataFrame to analyze.\n",
    "\n",
    "    Returns:\n",
    "        comp_columns (list): A list of column names that are compensation-related.\n",
    "    \"\"\"\n",
    "    import pandas as pd\n",
    "\n",
    "    # Define keywords that are commonly found in compensation-related column names\n",
    "    compensation_keywords = ['comp', 'salary', 'pay', 'earn', 'income', 'remuneration', 'wage', 'bonus', 'benefit']\n",
    "\n",
    "    # Initialize an empty list to store compensation-related column names\n",
    "    comp_columns = []\n",
    "\n",
    "    # Iterate over the columns in the DataFrame\n",
    "    for col in df.columns:\n",
    "        # Convert column name to lowercase for case-insensitive comparison\n",
    "        col_lower = col.lower()\n",
    "        # Check if any of the compensation keywords are in the column name\n",
    "        if any(keyword in col_lower for keyword in compensation_keywords):\n",
    "            comp_columns.append(col)\n",
    "\n",
    "    # Provide feedback to the user\n",
    "    if comp_columns:\n",
    "        print(\"Compensation-related columns found:\")\n",
    "        for col in comp_columns:\n",
    "            print(f\" - {col}\")\n",
    "    else:\n",
    "        print(\"No compensation-related columns were found in the DataFrame.\")\n",
    "\n",
    "    return comp_columns\n"
   ]
  },
  {
   "cell_type": "markdown",
   "metadata": {},
   "source": [
    "Integrating the Function into Your Workflow\n",
    "\n",
    "In a data analysis pipeline, you can incorporate the function as follows:"
   ]
  },
  {
   "cell_type": "code",
   "execution_count": null,
   "metadata": {},
   "outputs": [],
   "source": [
    "def summarize_compensation_columns(df):\n",
    "    comp_columns = check_compensation_columns(df)\n",
    "    \n",
    "    if comp_columns:\n",
    "        for col in comp_columns:\n",
    "            # Ensure the column is numeric\n",
    "            df[col] = pd.to_numeric(df[col], errors='coerce')\n",
    "            # Display descriptive statistics\n",
    "            print(f\"\\nDescriptive statistics for '{col}':\")\n",
    "            print(df[col].describe())\n",
    "    else:\n",
    "        print(\"No compensation-related columns to summarize.\")\n"
   ]
  },
  {
   "cell_type": "code",
   "execution_count": 32,
   "metadata": {},
   "outputs": [
    {
     "name": "stdout",
     "output_type": "stream",
     "text": [
      "Dataset loaded successfully. Shape: (65437, 114)\n",
      "Compensation-related columns found:\n",
      " - LearnCode\n",
      " - LearnCodeOnline\n",
      " - CompTotal\n",
      " - AIComplex\n",
      " - ConvertedCompYearly\n",
      "\n",
      "Descriptive statistics for 'LearnCode':\n",
      "count    0.0\n",
      "mean     NaN\n",
      "std      NaN\n",
      "min      NaN\n",
      "25%      NaN\n",
      "50%      NaN\n",
      "75%      NaN\n",
      "max      NaN\n",
      "Name: LearnCode, dtype: float64\n",
      "\n",
      "Descriptive statistics for 'LearnCodeOnline':\n",
      "count    0.0\n",
      "mean     NaN\n",
      "std      NaN\n",
      "min      NaN\n",
      "25%      NaN\n",
      "50%      NaN\n",
      "75%      NaN\n",
      "max      NaN\n",
      "Name: LearnCodeOnline, dtype: float64\n",
      "\n",
      "Descriptive statistics for 'CompTotal':\n",
      "count     3.374000e+04\n",
      "mean     2.963841e+145\n",
      "std      5.444117e+147\n",
      "min       0.000000e+00\n",
      "25%       6.000000e+04\n",
      "50%       1.100000e+05\n",
      "75%       2.500000e+05\n",
      "max      1.000000e+150\n",
      "Name: CompTotal, dtype: float64\n",
      "\n",
      "Descriptive statistics for 'AIComplex':\n",
      "count    0.0\n",
      "mean     NaN\n",
      "std      NaN\n",
      "min      NaN\n",
      "25%      NaN\n",
      "50%      NaN\n",
      "75%      NaN\n",
      "max      NaN\n",
      "Name: AIComplex, dtype: float64\n",
      "\n",
      "Descriptive statistics for 'ConvertedCompYearly':\n",
      "count    2.343500e+04\n",
      "mean     8.615529e+04\n",
      "std      1.867570e+05\n",
      "min      1.000000e+00\n",
      "25%      3.271200e+04\n",
      "50%      6.500000e+04\n",
      "75%      1.079715e+05\n",
      "max      1.625660e+07\n",
      "Name: ConvertedCompYearly, dtype: float64\n"
     ]
    }
   ],
   "source": [
    "# Load your dataset\n",
    "file_path = \"https://cf-courses-data.s3.us.cloud-object-storage.appdomain.cloud/n01PQ9pSmiRX6520flujwQ/survey-data.csv\"  # Update with your actual file path\n",
    "df = load_dataset(file_path)\n",
    "summarize_compensation_columns(df)"
   ]
  },
  {
   "cell_type": "markdown",
   "metadata": {},
   "source": [
    "##### Task 5: Normalize ConvertedCompYearly using Min-Max Scaling.\n",
    "Min-Max Scaling brings all values in a column to a 0-1 range, making it useful for comparing data across different scales. Here, you will apply Min-Max normalization to the ConvertedCompYearly column, creating a new column ConvertedCompYearly_MinMax with normalized values.\n"
   ]
  },
  {
   "cell_type": "markdown",
   "metadata": {},
   "source": [
    "Normalizing your ConvertedCompYearly column using Min-Max Scaling is a smart move to ensure all your data is on a comparable scale, especially if you're gearing up for machine learning algorithms or statistical analyses that are sensitive to the magnitude of different features. Let's create a function that accomplishes this, and I'll walk you through each step to make it crystal clear."
   ]
  },
  {
   "cell_type": "markdown",
   "metadata": {},
   "source": [
    "**Understanding Min-Max Scaling**\n",
    "\n",
    "Min-Max Scaling, also known as Normalization, rescales the data to a fixed range—usually between 0 and 1. This technique preserves the relationships among the original data values while adjusting the scale. The formula for Min-Max Scaling is:\n",
    "\n",
    "Normalized Value = (Value − Minimum Value)/(Maximum Value - Minimum Value)"
   ]
  },
  {
   "cell_type": "markdown",
   "metadata": {},
   "source": [
    "**Why Normalize Compensation Data?**\n",
    "- Algorithms Sensitivity: Some machine learning algorithms, like k-NN and neural networks, perform better when features are on a similar scale.\n",
    "\n",
    "- Interpretability: Normalized data can make comparisons across features more intuitive.\n",
    "\n",
    "- Convergence Speed: Gradient descent algorithms converge faster on normalized data."
   ]
  },
  {
   "cell_type": "code",
   "execution_count": 39,
   "metadata": {},
   "outputs": [],
   "source": [
    "def normalize_converted_comp_yearly(df):\n",
    "    \"\"\"\n",
    "    Normalizes the 'ConvertedCompYearly' column in the DataFrame using Min-Max Scaling.\n",
    "\n",
    "    Parameters:\n",
    "        df (pd.DataFrame): The DataFrame containing the 'ConvertedCompYearly' column.\n",
    "\n",
    "    Returns:\n",
    "        pd.DataFrame: The DataFrame with an additional column 'ConvertedCompYearly_MinMax '.\n",
    "    \"\"\"\n",
    "    import pandas as pd\n",
    "    import numpy as np\n",
    "\n",
    "    # Check if 'ConvertedCompYearly' exists in the DataFrame\n",
    "    if 'ConvertedCompYearly' not in df.columns:\n",
    "        print(\"The DataFrame does not contain the 'ConvertedCompYearly' column.\")\n",
    "        return df\n",
    "\n",
    "    # Copy the DataFrame to avoid modifying the original data\n",
    "    df = df.copy()\n",
    "\n",
    "    # Ensure 'ConvertedCompYearly' is numeric\n",
    "    df['ConvertedCompYearly'] = pd.to_numeric(df['ConvertedCompYearly'], errors='coerce')\n",
    "\n",
    "    # Handle missing values by filling with the median\n",
    "    median_value = df['ConvertedCompYearly'].median()\n",
    "    df['ConvertedCompYearly'].fillna(median_value, inplace=True)\n",
    "    print(f\"Filled missing values with median: {median_value}\")\n",
    "\n",
    "    # Calculate the minimum and maximum values\n",
    "    min_value = df['ConvertedCompYearly'].min()\n",
    "    max_value = df['ConvertedCompYearly'].max()\n",
    "    print(f\"Minimum value: {min_value}\")\n",
    "    print(f\"Maximum value: {max_value}\")\n",
    "\n",
    "    # Apply Min-Max Scaling\n",
    "    df['ConvertedCompYearly_MinMax'] = (df['ConvertedCompYearly'] - min_value) / (max_value - min_value)\n",
    "\n",
    "    # Handle potential division by zero if max equals min\n",
    "    if min_value == max_value:\n",
    "        df['ConvertedCompYearly_MinMax'] = 0.0  # All values are the same\n",
    "\n",
    "    # Return the DataFrame with the new normalized column\n",
    "    return df\n"
   ]
  },
  {
   "cell_type": "code",
   "execution_count": 40,
   "metadata": {},
   "outputs": [
    {
     "name": "stdout",
     "output_type": "stream",
     "text": [
      "Dataset loaded successfully. Shape: (65437, 114)\n",
      "Filled missing values with median: 65000.0\n",
      "Minimum value: 1.0\n",
      "Maximum value: 16256603.0\n"
     ]
    },
    {
     "name": "stderr",
     "output_type": "stream",
     "text": [
      "C:\\Users\\tdhoa\\AppData\\Local\\Temp\\ipykernel_19108\\4190341625.py:27: FutureWarning: A value is trying to be set on a copy of a DataFrame or Series through chained assignment using an inplace method.\n",
      "The behavior will change in pandas 3.0. This inplace method will never work because the intermediate object on which we are setting values always behaves as a copy.\n",
      "\n",
      "For example, when doing 'df[col].method(value, inplace=True)', try using 'df.method({col: value}, inplace=True)' or df[col] = df[col].method(value) instead, to perform the operation inplace on the original object.\n",
      "\n",
      "\n",
      "  df['ConvertedCompYearly'].fillna(median_value, inplace=True)\n"
     ]
    }
   ],
   "source": [
    "# Load your dataset\n",
    "file_path = \"https://cf-courses-data.s3.us.cloud-object-storage.appdomain.cloud/n01PQ9pSmiRX6520flujwQ/survey-data.csv\"  # Update with your actual file path\n",
    "df = load_dataset(file_path)\n",
    "\n",
    "# Normalize 'ConvertedCompYearly'\n",
    "df = normalize_converted_comp_yearly(df)\n"
   ]
  },
  {
   "cell_type": "markdown",
   "metadata": {},
   "source": [
    "##### Task 6: Apply Z-score Normalization to `ConvertedCompYearly`.\n",
    "\n",
    "Z-score normalization standardizes values by converting them to a distribution with a mean of 0 and a standard deviation of 1. This method is helpful for datasets with a Gaussian (normal) distribution. Here, you’ll calculate Z-scores for the ConvertedCompYearly column, saving the results in a new column ConvertedCompYearly_Zscore.\n"
   ]
  },
  {
   "cell_type": "markdown",
   "metadata": {},
   "source": [
    "Normalizing your ConvertedCompYearly column using **Z-score normalization** (also known as **Standardization**) is a fantastic approach to prepare your data for many statistical analyses and machine learning algorithms.\n",
    "\n",
    "This method transforms your data such that it has a mean of 0 and a standard deviation of 1, effectively centering and scaling your data.\n",
    "\n",
    "Let's dive into crafting a function that accomplishes this, and I'll walk you through each step to ensure clarity and depth."
   ]
  },
  {
   "cell_type": "markdown",
   "metadata": {},
   "source": [
    "**Understanding Z-score Normalization**\n",
    "Z-score normalization rescales the data based on the mean (𝜇) and standard deviation (𝜎) of the feature. The formula is:\n",
    "\n",
    "Standardized Value = (Value − 𝜇)/𝜎\n",
    "\n",
    "This transformation results in a dataset where the values represent the number of standard deviations away from the mean."
   ]
  },
  {
   "cell_type": "markdown",
   "metadata": {},
   "source": [
    "**Why Use Z-score Normalization?**\n",
    "- Centering Data: Adjusts data to have a mean of 0, which can be beneficial for algorithms sensitive to data distributions.\n",
    "\n",
    "- Scaling: Standardizes the variance to 1, aiding in algorithms that assume equal variance among features.\n",
    "\n",
    "- Handling Outliers: Less affected by extreme values compared to Min-Max Scaling."
   ]
  },
  {
   "cell_type": "code",
   "execution_count": 41,
   "metadata": {},
   "outputs": [],
   "source": [
    "def standardize_converted_comp_yearly(df):\n",
    "    \"\"\"\n",
    "    Standardizes the 'ConvertedCompYearly' column in the DataFrame using Z-score normalization.\n",
    "    \n",
    "    Parameters:\n",
    "        df (pd.DataFrame): The DataFrame containing the 'ConvertedCompYearly' column.\n",
    "    \n",
    "    Returns:\n",
    "        pd.DataFrame: The DataFrame with an additional column 'ConvertedCompYearly_Zscore'.\n",
    "    \"\"\"\n",
    "    import pandas as pd\n",
    "    import numpy as np\n",
    "\n",
    "    # Check if 'ConvertedCompYearly' exists in the DataFrame\n",
    "    if 'ConvertedCompYearly' not in df.columns:\n",
    "        print(\"The DataFrame does not contain the 'ConvertedCompYearly' column.\")\n",
    "        return df\n",
    "\n",
    "    # Copy the DataFrame to avoid modifying the original data\n",
    "    df = df.copy()\n",
    "\n",
    "    # Ensure 'ConvertedCompYearly' is numeric\n",
    "    df['ConvertedCompYearly'] = pd.to_numeric(df['ConvertedCompYearly'], errors='coerce')\n",
    "\n",
    "    # Handle missing values by filling with the median\n",
    "    median_value = df['ConvertedCompYearly'].median()\n",
    "    df['ConvertedCompYearly'].fillna(median_value, inplace=True)\n",
    "    print(f\"Filled missing values with median: {median_value}\")\n",
    "\n",
    "    # Calculate the mean and standard deviation\n",
    "    mean_value = df['ConvertedCompYearly'].mean()\n",
    "    std_dev = df['ConvertedCompYearly'].std()\n",
    "    print(f\"Mean value: {mean_value}\")\n",
    "    print(f\"Standard deviation: {std_dev}\")\n",
    "\n",
    "    # Apply Z-score normalization\n",
    "    df['ConvertedCompYearly_Zscore'] = (df['ConvertedCompYearly'] - mean_value) / std_dev\n",
    "\n",
    "    # Return the DataFrame with the new standardized column\n",
    "    return df\n"
   ]
  },
  {
   "cell_type": "code",
   "execution_count": 42,
   "metadata": {},
   "outputs": [
    {
     "name": "stdout",
     "output_type": "stream",
     "text": [
      "Filled missing values with median: 65000.0\n",
      "Mean value: 72576.3582835399\n",
      "Standard deviation: 112220.68159721408\n"
     ]
    },
    {
     "name": "stderr",
     "output_type": "stream",
     "text": [
      "C:\\Users\\tdhoa\\AppData\\Local\\Temp\\ipykernel_19108\\3005258103.py:27: FutureWarning: A value is trying to be set on a copy of a DataFrame or Series through chained assignment using an inplace method.\n",
      "The behavior will change in pandas 3.0. This inplace method will never work because the intermediate object on which we are setting values always behaves as a copy.\n",
      "\n",
      "For example, when doing 'df[col].method(value, inplace=True)', try using 'df.method({col: value}, inplace=True)' or df[col] = df[col].method(value) instead, to perform the operation inplace on the original object.\n",
      "\n",
      "\n",
      "  df['ConvertedCompYearly'].fillna(median_value, inplace=True)\n"
     ]
    }
   ],
   "source": [
    "df = standardize_converted_comp_yearly(df)"
   ]
  },
  {
   "cell_type": "markdown",
   "metadata": {},
   "source": [
    "### Section 4: Visualization of Normalized Data\n",
    "##### Task 7: Visualize the distribution of `ConvertedCompYearly`, `ConvertedCompYearly_Normalized`, and `ConvertedCompYearly_Zscore`\n",
    "\n",
    "Visualization helps you understand how normalization changes the data distribution. In this task, create histograms for the original ConvertedCompYearly, as well as its normalized versions (ConvertedCompYearly_MinMax and ConvertedCompYearly_Zscore). This will help you compare how each normalization technique affects the data range and distribution.\n"
   ]
  },
  {
   "cell_type": "markdown",
   "metadata": {},
   "source": [
    "Visualizing the distributions of ConvertedCompYearly, ConvertedCompYearly_Normalized, and ConvertedCompYearly_Standardized is an excellent way to understand how the data transformations impact the shape and scale of your compensation data. Let's dive into creating these visualizations using Python's matplotlib and seaborn libraries."
   ]
  },
  {
   "cell_type": "code",
   "execution_count": 43,
   "metadata": {},
   "outputs": [
    {
     "name": "stdout",
     "output_type": "stream",
     "text": [
      "Dataset loaded successfully. Shape: (65437, 114)\n"
     ]
    },
    {
     "name": "stderr",
     "output_type": "stream",
     "text": [
      "C:\\Users\\tdhoa\\AppData\\Local\\Temp\\ipykernel_19108\\3659525851.py:17: FutureWarning: A value is trying to be set on a copy of a DataFrame or Series through chained assignment using an inplace method.\n",
      "The behavior will change in pandas 3.0. This inplace method will never work because the intermediate object on which we are setting values always behaves as a copy.\n",
      "\n",
      "For example, when doing 'df[col].method(value, inplace=True)', try using 'df.method({col: value}, inplace=True)' or df[col] = df[col].method(value) instead, to perform the operation inplace on the original object.\n",
      "\n",
      "\n",
      "  df['ConvertedCompYearly'].fillna(median_comp, inplace=True)\n"
     ]
    },
    {
     "data": {
      "image/png": "[encoded data removed]",
      "text/plain": [
       "<Figure size 1800x500 with 3 Axes>"
      ]
     },
     "metadata": {},
     "output_type": "display_data"
    }
   ],
   "source": [
    "# Import Necessary Libraries\n",
    "import pandas as pd\n",
    "import numpy as np\n",
    "import matplotlib.pyplot as plt\n",
    "import seaborn as sns\n",
    "\n",
    "# Prepare the Data\n",
    "file_path = \"https://cf-courses-data.s3.us.cloud-object-storage.appdomain.cloud/n01PQ9pSmiRX6520flujwQ/survey-data.csv\"  # Update with your actual file path\n",
    "df = load_dataset(file_path)\n",
    "\n",
    "# Ensure that ConvertedCompYearly is numeric and handle missing values:\n",
    "# Convert to numeric, coercing errors\n",
    "df['ConvertedCompYearly'] = pd.to_numeric(df['ConvertedCompYearly'], errors='coerce')\n",
    "\n",
    "# Fill missing values with the median\n",
    "median_comp = df['ConvertedCompYearly'].median()\n",
    "df['ConvertedCompYearly'].fillna(median_comp, inplace=True)\n",
    "\n",
    "# Normalize and Standardize the Data\n",
    "# Calculate min and max values\n",
    "min_comp = df['ConvertedCompYearly'].min()\n",
    "max_comp = df['ConvertedCompYearly'].max()\n",
    "\n",
    "# Apply Min-Max normalization\n",
    "df['ConvertedCompYearly_Normalized'] = (df['ConvertedCompYearly'] - min_comp) / (max_comp - min_comp)\n",
    "\n",
    "# Z-score Standardization\n",
    "# Calculate mean and standard deviation\n",
    "mean_comp = df['ConvertedCompYearly'].mean()\n",
    "std_comp = df['ConvertedCompYearly'].std()\n",
    "\n",
    "# Apply Z-score standardization\n",
    "df['ConvertedCompYearly_Standardized'] = (df['ConvertedCompYearly'] - mean_comp) / std_comp\n",
    "\n",
    "# Visualize the Distributions\n",
    "# We'll create side-by-side histograms with KDE (Kernel Density Estimate) plots for each variable.\n",
    "# Set the style for seaborn\n",
    "sns.set(style='whitegrid', palette='muted')\n",
    "\n",
    "# Create subplots\n",
    "plt.figure(figsize=(18, 5))\n",
    "\n",
    "# Original Compensation Distribution\n",
    "plt.subplot(1, 3, 1)\n",
    "sns.histplot(df['ConvertedCompYearly'], bins=50, kde=True, color='skyblue')\n",
    "plt.title('Original Compensation Distribution')\n",
    "plt.xlabel('ConvertedCompYearly')\n",
    "plt.ylabel('Frequency')\n",
    "\n",
    "# Normalized Compensation Distribution\n",
    "plt.subplot(1, 3, 2)\n",
    "sns.histplot(df['ConvertedCompYearly_Normalized'], bins=50, kde=True, color='salmon')\n",
    "plt.title('Min-Max Normalized Compensation')\n",
    "plt.xlabel('ConvertedCompYearly_Normalized')\n",
    "plt.ylabel('Frequency')\n",
    "\n",
    "# Standardized Compensation Distribution\n",
    "plt.subplot(1, 3, 3)\n",
    "sns.histplot(df['ConvertedCompYearly_Standardized'], bins=50, kde=True, color='lightgreen')\n",
    "plt.title('Z-score Standardized Compensation')\n",
    "plt.xlabel('ConvertedCompYearly_Standardized')\n",
    "plt.ylabel('Frequency')\n",
    "\n",
    "# Adjust layout and display the plots\n",
    "plt.tight_layout()\n",
    "plt.show()\n"
   ]
  },
  {
   "cell_type": "markdown",
   "metadata": {},
   "source": [
    "**Interpret the Visualizations**\n",
    "\n",
    "a. Original Compensation Distribution\n",
    "\n",
    "    - Scale: The x-axis represents the actual compensation amounts in their original units (e.g., USD).\n",
    "\n",
    "    - Shape: Likely right-skewed due to high-income outliers.\n",
    "\n",
    "    - Insights:\n",
    "\n",
    "        - The majority of respondents earn below a certain threshold.\n",
    "\n",
    "        - A long tail indicates a smaller number of high earners.\n",
    "\n",
    "b. Min-Max Normalized Compensation\n",
    "\n",
    "    - Scale: Values range between 0 and 1.\n",
    "\n",
    "    - Shape: Mirrors the original distribution's shape but rescaled.\n",
    "\n",
    "    - Insights:\n",
    "\n",
    "        - The relative positions of data points are preserved.\n",
    "\n",
    "        - Useful for algorithms sensitive to the scale of input data.\n",
    "\n",
    "c. Z-score Standardized Compensation\n",
    "\n",
    "    - Scale: Centered around 0 with a standard deviation of 1.\n",
    "\n",
    "    - Shape: The distribution retains its original shape.\n",
    "\n",
    "    - Insights:\n",
    "\n",
    "        - Negative values indicate compensation below the mean.\n",
    "\n",
    "        - Positive values represent compensation above the mean.\n",
    "\n",
    "        - Highlights how many standard deviations a value is from the mean."
   ]
  }
 ],
 "metadata": {
  "kernelspec": {
   "display_name": "Python 3",
   "language": "python",
   "name": "python3"
  },
  "language_info": {
   "codemirror_mode": {
    "name": "ipython",
    "version": 3
   },
   "file_extension": ".py",
   "mimetype": "text/x-python",
   "name": "python",
   "nbconvert_exporter": "python",
   "pygments_lexer": "ipython3",
   "version": "3.12.3"
  }
 },
 "nbformat": 4,
 "nbformat_minor": 2
}
